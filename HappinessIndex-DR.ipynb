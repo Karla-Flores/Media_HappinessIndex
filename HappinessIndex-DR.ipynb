{
 "cells": [
  {
   "cell_type": "code",
   "execution_count": 43,
   "metadata": {},
   "outputs": [
    {
     "data": {
      "text/html": [
       "        <script type=\"text/javascript\">\n",
       "        window.PlotlyConfig = {MathJaxConfig: 'local'};\n",
       "        if (window.MathJax) {MathJax.Hub.Config({SVG: {font: \"STIX-Web\"}});}\n",
       "        if (typeof require !== 'undefined') {\n",
       "        require.undef(\"plotly\");\n",
       "        requirejs.config({\n",
       "            paths: {\n",
       "                'plotly': ['https://cdn.plot.ly/plotly-latest.min']\n",
       "            }\n",
       "        });\n",
       "        require(['plotly'], function(Plotly) {\n",
       "            window._Plotly = Plotly;\n",
       "        });\n",
       "        }\n",
       "        </script>\n",
       "        "
      ]
     },
     "metadata": {},
     "output_type": "display_data"
    }
   ],
   "source": [
    "# Dependencies and Setup\n",
    "import pandas as pd\n",
    "import numpy as np\n",
    "import matplotlib.pyplot as plt\n",
    "# import plotly.graph_objs as go\n",
    "# from plotly.offline import init_notebook_mode,iplot,plot\n",
    "# init_notebook_mode(connected=True) \n",
    "\n",
    "# File to Load \n",
    "file_to_load = 'Data Sets/Latest Netflix data with 26+ joined attributes/netflix-rotten-tomatoes-metacritic-imdb.csv'\n",
    "netflix_metacritic = pd.read_csv(file_to_load)"
   ]
  },
  {
   "cell_type": "code",
   "execution_count": 3,
   "metadata": {
    "scrolled": true
   },
   "outputs": [
    {
     "data": {
      "text/html": [
       "<div>\n",
       "<style scoped>\n",
       "    .dataframe tbody tr th:only-of-type {\n",
       "        vertical-align: middle;\n",
       "    }\n",
       "\n",
       "    .dataframe tbody tr th {\n",
       "        vertical-align: top;\n",
       "    }\n",
       "\n",
       "    .dataframe thead th {\n",
       "        text-align: right;\n",
       "    }\n",
       "</style>\n",
       "<table border=\"1\" class=\"dataframe\">\n",
       "  <thead>\n",
       "    <tr style=\"text-align: right;\">\n",
       "      <th></th>\n",
       "      <th>Country</th>\n",
       "      <th>Title</th>\n",
       "      <th>Genre</th>\n",
       "      <th>Languages</th>\n",
       "      <th>Director</th>\n",
       "      <th>Media Type</th>\n",
       "    </tr>\n",
       "  </thead>\n",
       "  <tbody>\n",
       "    <tr>\n",
       "      <th>0</th>\n",
       "      <td>Thailand</td>\n",
       "      <td>Lets Fight Ghost</td>\n",
       "      <td>Crime, Drama, Fantasy, Horror, Romance</td>\n",
       "      <td>Swedish, Spanish</td>\n",
       "      <td>Tomas Alfredson</td>\n",
       "      <td>Series</td>\n",
       "    </tr>\n",
       "    <tr>\n",
       "      <th>1</th>\n",
       "      <td>Canada</td>\n",
       "      <td>HOW TO BUILD A GIRL</td>\n",
       "      <td>Comedy</td>\n",
       "      <td>English</td>\n",
       "      <td>Coky Giedroyc</td>\n",
       "      <td>Movie</td>\n",
       "    </tr>\n",
       "    <tr>\n",
       "      <th>2</th>\n",
       "      <td>Canada</td>\n",
       "      <td>Centigrade</td>\n",
       "      <td>Drama, Thriller</td>\n",
       "      <td>English</td>\n",
       "      <td>Brendan Walsh</td>\n",
       "      <td>Movie</td>\n",
       "    </tr>\n",
       "    <tr>\n",
       "      <th>3</th>\n",
       "      <td>Belgium</td>\n",
       "      <td>ANNE+</td>\n",
       "      <td>Drama</td>\n",
       "      <td>Turkish</td>\n",
       "      <td>NaN</td>\n",
       "      <td>Series</td>\n",
       "    </tr>\n",
       "    <tr>\n",
       "      <th>4</th>\n",
       "      <td>Netherlands</td>\n",
       "      <td>ANNE+</td>\n",
       "      <td>Drama</td>\n",
       "      <td>Turkish</td>\n",
       "      <td>NaN</td>\n",
       "      <td>Series</td>\n",
       "    </tr>\n",
       "    <tr>\n",
       "      <th>...</th>\n",
       "      <td>...</td>\n",
       "      <td>...</td>\n",
       "      <td>...</td>\n",
       "      <td>...</td>\n",
       "      <td>...</td>\n",
       "      <td>...</td>\n",
       "    </tr>\n",
       "    <tr>\n",
       "      <th>195580</th>\n",
       "      <td>Brazil</td>\n",
       "      <td>DreamWorks Kung Fu Panda Awesome Secrets</td>\n",
       "      <td>Animation, Action, Comedy, Family</td>\n",
       "      <td>English</td>\n",
       "      <td>NaN</td>\n",
       "      <td>Series</td>\n",
       "    </tr>\n",
       "    <tr>\n",
       "      <th>195581</th>\n",
       "      <td>Netherlands</td>\n",
       "      <td>DreamWorks Kung Fu Panda Awesome Secrets</td>\n",
       "      <td>Animation, Action, Comedy, Family</td>\n",
       "      <td>English</td>\n",
       "      <td>NaN</td>\n",
       "      <td>Series</td>\n",
       "    </tr>\n",
       "    <tr>\n",
       "      <th>195582</th>\n",
       "      <td>Italy</td>\n",
       "      <td>DreamWorks Kung Fu Panda Awesome Secrets</td>\n",
       "      <td>Animation, Action, Comedy, Family</td>\n",
       "      <td>English</td>\n",
       "      <td>NaN</td>\n",
       "      <td>Series</td>\n",
       "    </tr>\n",
       "    <tr>\n",
       "      <th>195583</th>\n",
       "      <td>Israel</td>\n",
       "      <td>DreamWorks Kung Fu Panda Awesome Secrets</td>\n",
       "      <td>Animation, Action, Comedy, Family</td>\n",
       "      <td>English</td>\n",
       "      <td>NaN</td>\n",
       "      <td>Series</td>\n",
       "    </tr>\n",
       "    <tr>\n",
       "      <th>195584</th>\n",
       "      <td>Colombia</td>\n",
       "      <td>DreamWorks Kung Fu Panda Awesome Secrets</td>\n",
       "      <td>Animation, Action, Comedy, Family</td>\n",
       "      <td>English</td>\n",
       "      <td>NaN</td>\n",
       "      <td>Series</td>\n",
       "    </tr>\n",
       "  </tbody>\n",
       "</table>\n",
       "<p>195585 rows × 6 columns</p>\n",
       "</div>"
      ],
      "text/plain": [
       "            Country                                     Title  \\\n",
       "0          Thailand                          Lets Fight Ghost   \n",
       "1            Canada                       HOW TO BUILD A GIRL   \n",
       "2            Canada                                Centigrade   \n",
       "3           Belgium                                     ANNE+   \n",
       "4       Netherlands                                     ANNE+   \n",
       "...             ...                                       ...   \n",
       "195580       Brazil  DreamWorks Kung Fu Panda Awesome Secrets   \n",
       "195581  Netherlands  DreamWorks Kung Fu Panda Awesome Secrets   \n",
       "195582        Italy  DreamWorks Kung Fu Panda Awesome Secrets   \n",
       "195583       Israel  DreamWorks Kung Fu Panda Awesome Secrets   \n",
       "195584     Colombia  DreamWorks Kung Fu Panda Awesome Secrets   \n",
       "\n",
       "                                         Genre         Languages  \\\n",
       "0       Crime, Drama, Fantasy, Horror, Romance  Swedish, Spanish   \n",
       "1                                       Comedy           English   \n",
       "2                              Drama, Thriller           English   \n",
       "3                                        Drama           Turkish   \n",
       "4                                        Drama           Turkish   \n",
       "...                                        ...               ...   \n",
       "195580       Animation, Action, Comedy, Family           English   \n",
       "195581       Animation, Action, Comedy, Family           English   \n",
       "195582       Animation, Action, Comedy, Family           English   \n",
       "195583       Animation, Action, Comedy, Family           English   \n",
       "195584       Animation, Action, Comedy, Family           English   \n",
       "\n",
       "               Director Media Type  \n",
       "0       Tomas Alfredson     Series  \n",
       "1         Coky Giedroyc      Movie  \n",
       "2         Brendan Walsh      Movie  \n",
       "3                   NaN     Series  \n",
       "4                   NaN     Series  \n",
       "...                 ...        ...  \n",
       "195580              NaN     Series  \n",
       "195581              NaN     Series  \n",
       "195582              NaN     Series  \n",
       "195583              NaN     Series  \n",
       "195584              NaN     Series  \n",
       "\n",
       "[195585 rows x 6 columns]"
      ]
     },
     "execution_count": 3,
     "metadata": {},
     "output_type": "execute_result"
    }
   ],
   "source": [
    "netflix_metacritic.head()\n",
    "netflix_metacritic_subset = netflix_metacritic[['Title','Genre','Languages','Country Availability','Director', 'Series or Movie']]\n",
    "netflix_metacritic_subset.columns = ['Title','Genre','Languages','Country','Director','Series or Movie']\n",
    "\n",
    "netflix_country_split = netflix_metacritic_subset.Country.str.split(',')\n",
    "series = netflix_country_split.apply(pd.Series, 1)\n",
    "stacked = series.stack()\n",
    "drop = stacked.index = stacked.index.droplevel(-1)\n",
    "df = pd.DataFrame(stacked)\n",
    "df = df.join(netflix_metacritic_subset)\n",
    "del df['Country']\n",
    "df.columns = ['Country','Title','Genre','Languages','Director','Media Type']\n",
    "df = df.reset_index(drop=True)\n",
    "df.to_csv('Data Sets/G3_Netflix_by_Country.csv', index = False)\n",
    "df"
   ]
  },
  {
   "cell_type": "code",
   "execution_count": 118,
   "metadata": {},
   "outputs": [
    {
     "data": {
      "text/html": [
       "<div>\n",
       "<style scoped>\n",
       "    .dataframe tbody tr th:only-of-type {\n",
       "        vertical-align: middle;\n",
       "    }\n",
       "\n",
       "    .dataframe tbody tr th {\n",
       "        vertical-align: top;\n",
       "    }\n",
       "\n",
       "    .dataframe thead th {\n",
       "        text-align: right;\n",
       "    }\n",
       "</style>\n",
       "<table border=\"1\" class=\"dataframe\">\n",
       "  <thead>\n",
       "    <tr style=\"text-align: right;\">\n",
       "      <th></th>\n",
       "      <th>Country</th>\n",
       "      <th>Media Type</th>\n",
       "      <th>Title</th>\n",
       "    </tr>\n",
       "  </thead>\n",
       "  <tbody>\n",
       "    <tr>\n",
       "      <th>0</th>\n",
       "      <td>Argentina</td>\n",
       "      <td>Movie</td>\n",
       "      <td>3356</td>\n",
       "    </tr>\n",
       "    <tr>\n",
       "      <th>1</th>\n",
       "      <td>Argentina</td>\n",
       "      <td>Series</td>\n",
       "      <td>1754</td>\n",
       "    </tr>\n",
       "    <tr>\n",
       "      <th>2</th>\n",
       "      <td>Australia</td>\n",
       "      <td>Movie</td>\n",
       "      <td>3721</td>\n",
       "    </tr>\n",
       "    <tr>\n",
       "      <th>3</th>\n",
       "      <td>Australia</td>\n",
       "      <td>Series</td>\n",
       "      <td>2066</td>\n",
       "    </tr>\n",
       "    <tr>\n",
       "      <th>4</th>\n",
       "      <td>Belgium</td>\n",
       "      <td>Movie</td>\n",
       "      <td>3580</td>\n",
       "    </tr>\n",
       "    <tr>\n",
       "      <th>...</th>\n",
       "      <td>...</td>\n",
       "      <td>...</td>\n",
       "      <td>...</td>\n",
       "    </tr>\n",
       "    <tr>\n",
       "      <th>67</th>\n",
       "      <td>Turkey</td>\n",
       "      <td>Series</td>\n",
       "      <td>1737</td>\n",
       "    </tr>\n",
       "    <tr>\n",
       "      <th>68</th>\n",
       "      <td>United Kingdom</td>\n",
       "      <td>Movie</td>\n",
       "      <td>4102</td>\n",
       "    </tr>\n",
       "    <tr>\n",
       "      <th>69</th>\n",
       "      <td>United Kingdom</td>\n",
       "      <td>Series</td>\n",
       "      <td>2171</td>\n",
       "    </tr>\n",
       "    <tr>\n",
       "      <th>70</th>\n",
       "      <td>United States</td>\n",
       "      <td>Movie</td>\n",
       "      <td>3633</td>\n",
       "    </tr>\n",
       "    <tr>\n",
       "      <th>71</th>\n",
       "      <td>United States</td>\n",
       "      <td>Series</td>\n",
       "      <td>2053</td>\n",
       "    </tr>\n",
       "  </tbody>\n",
       "</table>\n",
       "<p>72 rows × 3 columns</p>\n",
       "</div>"
      ],
      "text/plain": [
       "           Country Media Type  Title\n",
       "0        Argentina      Movie   3356\n",
       "1        Argentina     Series   1754\n",
       "2        Australia      Movie   3721\n",
       "3        Australia     Series   2066\n",
       "4          Belgium      Movie   3580\n",
       "..             ...        ...    ...\n",
       "67          Turkey     Series   1737\n",
       "68  United Kingdom      Movie   4102\n",
       "69  United Kingdom     Series   2171\n",
       "70   United States      Movie   3633\n",
       "71   United States     Series   2053\n",
       "\n",
       "[72 rows x 3 columns]"
      ]
     },
     "execution_count": 118,
     "metadata": {},
     "output_type": "execute_result"
    }
   ],
   "source": [
    "media_bycountry = df.groupby(['Country','Media Type'])['Title'].nunique()\n",
    "media_bycountry = pd.DataFrame(media_bycountry)\n",
    "media_bycountry = media_bycountry.reset_index()\n",
    "media_bycountry"
   ]
  },
  {
   "cell_type": "code",
   "execution_count": 108,
   "metadata": {
    "scrolled": true
   },
   "outputs": [
    {
     "data": {
      "text/html": [
       "<div>\n",
       "<style scoped>\n",
       "    .dataframe tbody tr th:only-of-type {\n",
       "        vertical-align: middle;\n",
       "    }\n",
       "\n",
       "    .dataframe tbody tr th {\n",
       "        vertical-align: top;\n",
       "    }\n",
       "\n",
       "    .dataframe thead th {\n",
       "        text-align: right;\n",
       "    }\n",
       "</style>\n",
       "<table border=\"1\" class=\"dataframe\">\n",
       "  <thead>\n",
       "    <tr style=\"text-align: right;\">\n",
       "      <th></th>\n",
       "      <th>Region</th>\n",
       "      <th>Country</th>\n",
       "      <th>Happiness Score</th>\n",
       "      <th>Media Type</th>\n",
       "      <th>Media Count</th>\n",
       "    </tr>\n",
       "  </thead>\n",
       "  <tbody>\n",
       "    <tr>\n",
       "      <th>0</th>\n",
       "      <td>Latin America and Caribbean</td>\n",
       "      <td>Argentina</td>\n",
       "      <td>5.929</td>\n",
       "      <td>Movie</td>\n",
       "      <td>3356</td>\n",
       "    </tr>\n",
       "    <tr>\n",
       "      <th>1</th>\n",
       "      <td>Latin America and Caribbean</td>\n",
       "      <td>Argentina</td>\n",
       "      <td>5.929</td>\n",
       "      <td>Series</td>\n",
       "      <td>1754</td>\n",
       "    </tr>\n",
       "    <tr>\n",
       "      <th>2</th>\n",
       "      <td>North America and ANZ</td>\n",
       "      <td>Australia</td>\n",
       "      <td>7.183</td>\n",
       "      <td>Movie</td>\n",
       "      <td>3721</td>\n",
       "    </tr>\n",
       "    <tr>\n",
       "      <th>3</th>\n",
       "      <td>North America and ANZ</td>\n",
       "      <td>Australia</td>\n",
       "      <td>7.183</td>\n",
       "      <td>Series</td>\n",
       "      <td>2066</td>\n",
       "    </tr>\n",
       "    <tr>\n",
       "      <th>4</th>\n",
       "      <td>Western Europe</td>\n",
       "      <td>Belgium</td>\n",
       "      <td>6.834</td>\n",
       "      <td>Movie</td>\n",
       "      <td>3580</td>\n",
       "    </tr>\n",
       "    <tr>\n",
       "      <th>...</th>\n",
       "      <td>...</td>\n",
       "      <td>...</td>\n",
       "      <td>...</td>\n",
       "      <td>...</td>\n",
       "      <td>...</td>\n",
       "    </tr>\n",
       "    <tr>\n",
       "      <th>65</th>\n",
       "      <td>Middle East and North Africa</td>\n",
       "      <td>Turkey</td>\n",
       "      <td>4.948</td>\n",
       "      <td>Series</td>\n",
       "      <td>1737</td>\n",
       "    </tr>\n",
       "    <tr>\n",
       "      <th>66</th>\n",
       "      <td>Western Europe</td>\n",
       "      <td>United Kingdom</td>\n",
       "      <td>7.064</td>\n",
       "      <td>Movie</td>\n",
       "      <td>4102</td>\n",
       "    </tr>\n",
       "    <tr>\n",
       "      <th>67</th>\n",
       "      <td>Western Europe</td>\n",
       "      <td>United Kingdom</td>\n",
       "      <td>7.064</td>\n",
       "      <td>Series</td>\n",
       "      <td>2171</td>\n",
       "    </tr>\n",
       "    <tr>\n",
       "      <th>68</th>\n",
       "      <td>North America and ANZ</td>\n",
       "      <td>United States</td>\n",
       "      <td>6.951</td>\n",
       "      <td>Movie</td>\n",
       "      <td>3633</td>\n",
       "    </tr>\n",
       "    <tr>\n",
       "      <th>69</th>\n",
       "      <td>North America and ANZ</td>\n",
       "      <td>United States</td>\n",
       "      <td>6.951</td>\n",
       "      <td>Series</td>\n",
       "      <td>2053</td>\n",
       "    </tr>\n",
       "  </tbody>\n",
       "</table>\n",
       "<p>70 rows × 5 columns</p>\n",
       "</div>"
      ],
      "text/plain": [
       "                          Region         Country  Happiness Score Media Type  \\\n",
       "0    Latin America and Caribbean       Argentina            5.929      Movie   \n",
       "1    Latin America and Caribbean       Argentina            5.929     Series   \n",
       "2          North America and ANZ       Australia            7.183      Movie   \n",
       "3          North America and ANZ       Australia            7.183     Series   \n",
       "4                 Western Europe         Belgium            6.834      Movie   \n",
       "..                           ...             ...              ...        ...   \n",
       "65  Middle East and North Africa          Turkey            4.948     Series   \n",
       "66                Western Europe  United Kingdom            7.064      Movie   \n",
       "67                Western Europe  United Kingdom            7.064     Series   \n",
       "68         North America and ANZ   United States            6.951      Movie   \n",
       "69         North America and ANZ   United States            6.951     Series   \n",
       "\n",
       "    Media Count  \n",
       "0          3356  \n",
       "1          1754  \n",
       "2          3721  \n",
       "3          2066  \n",
       "4          3580  \n",
       "..          ...  \n",
       "65         1737  \n",
       "66         4102  \n",
       "67         2171  \n",
       "68         3633  \n",
       "69         2053  \n",
       "\n",
       "[70 rows x 5 columns]"
      ]
     },
     "execution_count": 108,
     "metadata": {},
     "output_type": "execute_result"
    }
   ],
   "source": [
    "happynetflix_merge = pd.merge(media_bycountry, world_happiness_report_sub, on='Country',how='inner')\n",
    "happynetflix_merge.columns = ['Country','Media Type','Media Count','Region','Happiness Score']\n",
    "happynetflix_merge = happynetflix_merge[['Region','Country','Happiness Score','Media Type','Media Count']]\n",
    "happynetflix_merge"
   ]
  },
  {
   "cell_type": "code",
   "execution_count": 134,
   "metadata": {},
   "outputs": [
    {
     "data": {
      "text/html": [
       "<div>\n",
       "<style scoped>\n",
       "    .dataframe tbody tr th:only-of-type {\n",
       "        vertical-align: middle;\n",
       "    }\n",
       "\n",
       "    .dataframe tbody tr th {\n",
       "        vertical-align: top;\n",
       "    }\n",
       "\n",
       "    .dataframe thead th {\n",
       "        text-align: right;\n",
       "    }\n",
       "</style>\n",
       "<table border=\"1\" class=\"dataframe\">\n",
       "  <thead>\n",
       "    <tr style=\"text-align: right;\">\n",
       "      <th></th>\n",
       "      <th>Country</th>\n",
       "      <th>Media Type</th>\n",
       "      <th>Media Count</th>\n",
       "      <th>Region</th>\n",
       "      <th>Happiness Score</th>\n",
       "    </tr>\n",
       "  </thead>\n",
       "  <tbody>\n",
       "    <tr>\n",
       "      <th>35</th>\n",
       "      <td>Finland</td>\n",
       "      <td>NaN</td>\n",
       "      <td>NaN</td>\n",
       "      <td>Western Europe</td>\n",
       "      <td>7.842</td>\n",
       "    </tr>\n",
       "    <tr>\n",
       "      <th>36</th>\n",
       "      <td>Denmark</td>\n",
       "      <td>NaN</td>\n",
       "      <td>NaN</td>\n",
       "      <td>Western Europe</td>\n",
       "      <td>7.620</td>\n",
       "    </tr>\n",
       "    <tr>\n",
       "      <th>30</th>\n",
       "      <td>Switzerland</td>\n",
       "      <td>Movie</td>\n",
       "      <td>3511.0</td>\n",
       "      <td>Western Europe</td>\n",
       "      <td>7.571</td>\n",
       "    </tr>\n",
       "    <tr>\n",
       "      <th>11</th>\n",
       "      <td>Iceland</td>\n",
       "      <td>Movie</td>\n",
       "      <td>3389.0</td>\n",
       "      <td>Western Europe</td>\n",
       "      <td>7.554</td>\n",
       "    </tr>\n",
       "    <tr>\n",
       "      <th>19</th>\n",
       "      <td>Netherlands</td>\n",
       "      <td>Movie</td>\n",
       "      <td>3243.0</td>\n",
       "      <td>Western Europe</td>\n",
       "      <td>7.464</td>\n",
       "    </tr>\n",
       "    <tr>\n",
       "      <th>...</th>\n",
       "      <td>...</td>\n",
       "      <td>...</td>\n",
       "      <td>...</td>\n",
       "      <td>...</td>\n",
       "      <td>...</td>\n",
       "    </tr>\n",
       "    <tr>\n",
       "      <th>144</th>\n",
       "      <td>Lesotho</td>\n",
       "      <td>NaN</td>\n",
       "      <td>NaN</td>\n",
       "      <td>Sub-Saharan Africa</td>\n",
       "      <td>3.512</td>\n",
       "    </tr>\n",
       "    <tr>\n",
       "      <th>145</th>\n",
       "      <td>Botswana</td>\n",
       "      <td>NaN</td>\n",
       "      <td>NaN</td>\n",
       "      <td>Sub-Saharan Africa</td>\n",
       "      <td>3.467</td>\n",
       "    </tr>\n",
       "    <tr>\n",
       "      <th>146</th>\n",
       "      <td>Rwanda</td>\n",
       "      <td>NaN</td>\n",
       "      <td>NaN</td>\n",
       "      <td>Sub-Saharan Africa</td>\n",
       "      <td>3.415</td>\n",
       "    </tr>\n",
       "    <tr>\n",
       "      <th>147</th>\n",
       "      <td>Zimbabwe</td>\n",
       "      <td>NaN</td>\n",
       "      <td>NaN</td>\n",
       "      <td>Sub-Saharan Africa</td>\n",
       "      <td>3.145</td>\n",
       "    </tr>\n",
       "    <tr>\n",
       "      <th>148</th>\n",
       "      <td>Afghanistan</td>\n",
       "      <td>NaN</td>\n",
       "      <td>NaN</td>\n",
       "      <td>South Asia</td>\n",
       "      <td>2.523</td>\n",
       "    </tr>\n",
       "  </tbody>\n",
       "</table>\n",
       "<p>149 rows × 5 columns</p>\n",
       "</div>"
      ],
      "text/plain": [
       "         Country Media Type  Media Count              Region  Happiness Score\n",
       "35       Finland        NaN          NaN      Western Europe            7.842\n",
       "36       Denmark        NaN          NaN      Western Europe            7.620\n",
       "30   Switzerland      Movie       3511.0      Western Europe            7.571\n",
       "11       Iceland      Movie       3389.0      Western Europe            7.554\n",
       "19   Netherlands      Movie       3243.0      Western Europe            7.464\n",
       "..           ...        ...          ...                 ...              ...\n",
       "144      Lesotho        NaN          NaN  Sub-Saharan Africa            3.512\n",
       "145     Botswana        NaN          NaN  Sub-Saharan Africa            3.467\n",
       "146       Rwanda        NaN          NaN  Sub-Saharan Africa            3.415\n",
       "147     Zimbabwe        NaN          NaN  Sub-Saharan Africa            3.145\n",
       "148  Afghanistan        NaN          NaN          South Asia            2.523\n",
       "\n",
       "[149 rows x 5 columns]"
      ]
     },
     "execution_count": 134,
     "metadata": {},
     "output_type": "execute_result"
    }
   ],
   "source": [
    "media_bycountry = happynetflix_merge[['Country','Happiness Score','Media Type','Media Count']]\n",
    "movies_bycountry = media_bycountry[media_bycountry['Media Type'] == 'Movie']\n",
    "movies_bycountry\n",
    "movies_byhappy = pd.merge(movies_bycountry,world_happiness_report_sub,on=['Country'], how='outer')\n",
    "movies_byhappy = movies_byhappy.drop('Happiness Score', axis=1)\n",
    "movies_byhappy.columns = ['Country','Media Type','Media Count','Region','Happiness Score']\n",
    "movies_byhappy = movies_byhappy.sort_values('Happiness Score', ascending = False)\n",
    "movies_byhappy"
   ]
  },
  {
   "cell_type": "code",
   "execution_count": 136,
   "metadata": {},
   "outputs": [
    {
     "data": {
      "text/plain": [
       "<matplotlib.collections.PathCollection at 0x1b235f29ee0>"
      ]
     },
     "execution_count": 136,
     "metadata": {},
     "output_type": "execute_result"
    },
    {
     "data": {
      "image/png": "[encoded data removed]",
      "text/plain": [
       "<Figure size 432x288 with 1 Axes>"
      ]
     },
     "metadata": {
      "needs_background": "light"
     },
     "output_type": "display_data"
    }
   ],
   "source": [
    "y_values = movies_byhappy['Media Count']\n",
    "x_values = movies_byhappy['Happiness Score']\n",
    "plt.scatter(x_values,y_values)"
   ]
  },
  {
   "cell_type": "code",
   "execution_count": 144,
   "metadata": {},
   "outputs": [
    {
     "data": {
      "text/html": [
       "<div>\n",
       "<style scoped>\n",
       "    .dataframe tbody tr th:only-of-type {\n",
       "        vertical-align: middle;\n",
       "    }\n",
       "\n",
       "    .dataframe tbody tr th {\n",
       "        vertical-align: top;\n",
       "    }\n",
       "\n",
       "    .dataframe thead th {\n",
       "        text-align: right;\n",
       "    }\n",
       "</style>\n",
       "<table border=\"1\" class=\"dataframe\">\n",
       "  <thead>\n",
       "    <tr style=\"text-align: right;\">\n",
       "      <th></th>\n",
       "      <th>Country</th>\n",
       "      <th>Media Type</th>\n",
       "      <th>Media Count</th>\n",
       "      <th>Region</th>\n",
       "      <th>Happiness Score</th>\n",
       "    </tr>\n",
       "  </thead>\n",
       "  <tbody>\n",
       "    <tr>\n",
       "      <th>35</th>\n",
       "      <td>Finland</td>\n",
       "      <td>NaN</td>\n",
       "      <td>NaN</td>\n",
       "      <td>Western Europe</td>\n",
       "      <td>7.842</td>\n",
       "    </tr>\n",
       "    <tr>\n",
       "      <th>36</th>\n",
       "      <td>Denmark</td>\n",
       "      <td>NaN</td>\n",
       "      <td>NaN</td>\n",
       "      <td>Western Europe</td>\n",
       "      <td>7.620</td>\n",
       "    </tr>\n",
       "    <tr>\n",
       "      <th>30</th>\n",
       "      <td>Switzerland</td>\n",
       "      <td>Series</td>\n",
       "      <td>1932.0</td>\n",
       "      <td>Western Europe</td>\n",
       "      <td>7.571</td>\n",
       "    </tr>\n",
       "    <tr>\n",
       "      <th>11</th>\n",
       "      <td>Iceland</td>\n",
       "      <td>Series</td>\n",
       "      <td>1944.0</td>\n",
       "      <td>Western Europe</td>\n",
       "      <td>7.554</td>\n",
       "    </tr>\n",
       "    <tr>\n",
       "      <th>19</th>\n",
       "      <td>Netherlands</td>\n",
       "      <td>Series</td>\n",
       "      <td>1753.0</td>\n",
       "      <td>Western Europe</td>\n",
       "      <td>7.464</td>\n",
       "    </tr>\n",
       "    <tr>\n",
       "      <th>...</th>\n",
       "      <td>...</td>\n",
       "      <td>...</td>\n",
       "      <td>...</td>\n",
       "      <td>...</td>\n",
       "      <td>...</td>\n",
       "    </tr>\n",
       "    <tr>\n",
       "      <th>144</th>\n",
       "      <td>Lesotho</td>\n",
       "      <td>NaN</td>\n",
       "      <td>NaN</td>\n",
       "      <td>Sub-Saharan Africa</td>\n",
       "      <td>3.512</td>\n",
       "    </tr>\n",
       "    <tr>\n",
       "      <th>145</th>\n",
       "      <td>Botswana</td>\n",
       "      <td>NaN</td>\n",
       "      <td>NaN</td>\n",
       "      <td>Sub-Saharan Africa</td>\n",
       "      <td>3.467</td>\n",
       "    </tr>\n",
       "    <tr>\n",
       "      <th>146</th>\n",
       "      <td>Rwanda</td>\n",
       "      <td>NaN</td>\n",
       "      <td>NaN</td>\n",
       "      <td>Sub-Saharan Africa</td>\n",
       "      <td>3.415</td>\n",
       "    </tr>\n",
       "    <tr>\n",
       "      <th>147</th>\n",
       "      <td>Zimbabwe</td>\n",
       "      <td>NaN</td>\n",
       "      <td>NaN</td>\n",
       "      <td>Sub-Saharan Africa</td>\n",
       "      <td>3.145</td>\n",
       "    </tr>\n",
       "    <tr>\n",
       "      <th>148</th>\n",
       "      <td>Afghanistan</td>\n",
       "      <td>NaN</td>\n",
       "      <td>NaN</td>\n",
       "      <td>South Asia</td>\n",
       "      <td>2.523</td>\n",
       "    </tr>\n",
       "  </tbody>\n",
       "</table>\n",
       "<p>149 rows × 5 columns</p>\n",
       "</div>"
      ],
      "text/plain": [
       "         Country Media Type  Media Count              Region  Happiness Score\n",
       "35       Finland        NaN          NaN      Western Europe            7.842\n",
       "36       Denmark        NaN          NaN      Western Europe            7.620\n",
       "30   Switzerland     Series       1932.0      Western Europe            7.571\n",
       "11       Iceland     Series       1944.0      Western Europe            7.554\n",
       "19   Netherlands     Series       1753.0      Western Europe            7.464\n",
       "..           ...        ...          ...                 ...              ...\n",
       "144      Lesotho        NaN          NaN  Sub-Saharan Africa            3.512\n",
       "145     Botswana        NaN          NaN  Sub-Saharan Africa            3.467\n",
       "146       Rwanda        NaN          NaN  Sub-Saharan Africa            3.415\n",
       "147     Zimbabwe        NaN          NaN  Sub-Saharan Africa            3.145\n",
       "148  Afghanistan        NaN          NaN          South Asia            2.523\n",
       "\n",
       "[149 rows x 5 columns]"
      ]
     },
     "execution_count": 144,
     "metadata": {},
     "output_type": "execute_result"
    }
   ],
   "source": [
    "tv_bycountry = media_bycountry[media_bycountry['Media Type'] == 'Series']\n",
    "tv_byhappy = pd.merge(tv_bycountry,world_happiness_report_sub,on=['Country'], how='outer')\n",
    "tv_byhappy = tv_byhappy.drop('Happiness Score', axis=1)\n",
    "tv_byhappy.columns = ['Country','Media Type','Media Count','Region','Happiness Score']\n",
    "tv_byhappy = tv_byhappy.sort_values('Happiness Score', ascending = False)\n",
    "tv_byhappy"
   ]
  },
  {
   "cell_type": "code",
   "execution_count": 145,
   "metadata": {},
   "outputs": [
    {
     "data": {
      "text/plain": [
       "<matplotlib.collections.PathCollection at 0x1b234c28310>"
      ]
     },
     "execution_count": 145,
     "metadata": {},
     "output_type": "execute_result"
    },
    {
     "data": {
      "image/png": "[encoded data removed]",
      "text/plain": [
       "<Figure size 432x288 with 1 Axes>"
      ]
     },
     "metadata": {
      "needs_background": "light"
     },
     "output_type": "display_data"
    }
   ],
   "source": [
    "y_values = tv_byhappy['Media Count']\n",
    "x_values = tv_byhappy['Happiness Score']\n",
    "plt.scatter(x_values,y_values)"
   ]
  },
  {
   "cell_type": "code",
   "execution_count": 115,
   "metadata": {},
   "outputs": [
    {
     "data": {
      "text/plain": [
       "(2400.0, 4000.0)"
      ]
     },
     "execution_count": 115,
     "metadata": {},
     "output_type": "execute_result"
    },
    {
     "data": {
      "image/png": "[encoded data removed]",
      "text/plain": [
       "<Figure size 432x288 with 1 Axes>"
      ]
     },
     "metadata": {
      "needs_background": "light"
     },
     "output_type": "display_data"
    }
   ],
   "source": [
    "# region_avg_media_count = happynetflix_merge[['Region','Media Count']]\n",
    "# region_avg_media_count = round(region_avg_media_count.groupby('Region')['Media Count'].mean(),1)\n",
    "# region_avg_media_count = region_avg_media_count.sort_values(0,ascending=False)\n",
    "# region_avg_media_count.plot(kind='bar')\n",
    "\n",
    "# plt.ylabel('Avg. # of Available Media on Netflix')\n",
    "# plt.ylim(2400,4000)"
   ]
  },
  {
   "cell_type": "code",
   "execution_count": 110,
   "metadata": {
    "scrolled": false
   },
   "outputs": [
    {
     "data": {
      "text/plain": [
       "(2400.0, 6500.0)"
      ]
     },
     "execution_count": 110,
     "metadata": {},
     "output_type": "execute_result"
    },
    {
     "data": {
      "image/png": "[encoded data removed]",
      "text/plain": [
       "<Figure size 1080x360 with 1 Axes>"
      ]
     },
     "metadata": {
      "needs_background": "light"
     },
     "output_type": "display_data"
    }
   ],
   "source": [
    "country_avg_media_count = happynetflix_merge[['Country','Media Count']]\n",
    "country_avg_media_count = round(country_avg_media_count.groupby('Country')['Media Count'].sum(),1)\n",
    "country_avg_media_count = country_avg_media_count.sort_values(0,ascending=False)\n",
    "country_avg_media_count.plot(x='Country',y='Media Count', kind='bar', figsize=(15,5))\n",
    "\n",
    "plt.ylabel('# of Available Media on Netflix')\n",
    "plt.ylim(2400,6500)"
   ]
  },
  {
   "cell_type": "code",
   "execution_count": 23,
   "metadata": {},
   "outputs": [
    {
     "name": "stderr",
     "output_type": "stream",
     "text": [
      "<ipython-input-23-bd551c19ce9c>:8: SettingWithCopyWarning: \n",
      "A value is trying to be set on a copy of a slice from a DataFrame.\n",
      "Try using .loc[row_indexer,col_indexer] = value instead\n",
      "\n",
      "See the caveats in the documentation: https://pandas.pydata.org/pandas-docs/stable/user_guide/indexing.html#returning-a-view-versus-a-copy\n",
      "  netflix_countries['Netflix Access'] = netflix_list\n"
     ]
    },
    {
     "data": {
      "text/html": [
       "<div>\n",
       "<style scoped>\n",
       "    .dataframe tbody tr th:only-of-type {\n",
       "        vertical-align: middle;\n",
       "    }\n",
       "\n",
       "    .dataframe tbody tr th {\n",
       "        vertical-align: top;\n",
       "    }\n",
       "\n",
       "    .dataframe thead th {\n",
       "        text-align: right;\n",
       "    }\n",
       "</style>\n",
       "<table border=\"1\" class=\"dataframe\">\n",
       "  <thead>\n",
       "    <tr style=\"text-align: right;\">\n",
       "      <th></th>\n",
       "      <th>Region</th>\n",
       "      <th>Country</th>\n",
       "      <th>Netflix Access</th>\n",
       "    </tr>\n",
       "  </thead>\n",
       "  <tbody>\n",
       "    <tr>\n",
       "      <th>0</th>\n",
       "      <td>Latin America and Caribbean</td>\n",
       "      <td>Argentina</td>\n",
       "      <td>1</td>\n",
       "    </tr>\n",
       "    <tr>\n",
       "      <th>1</th>\n",
       "      <td>Latin America and Caribbean</td>\n",
       "      <td>Argentina</td>\n",
       "      <td>1</td>\n",
       "    </tr>\n",
       "    <tr>\n",
       "      <th>2</th>\n",
       "      <td>North America and ANZ</td>\n",
       "      <td>Australia</td>\n",
       "      <td>1</td>\n",
       "    </tr>\n",
       "    <tr>\n",
       "      <th>3</th>\n",
       "      <td>North America and ANZ</td>\n",
       "      <td>Australia</td>\n",
       "      <td>1</td>\n",
       "    </tr>\n",
       "    <tr>\n",
       "      <th>4</th>\n",
       "      <td>Western Europe</td>\n",
       "      <td>Belgium</td>\n",
       "      <td>1</td>\n",
       "    </tr>\n",
       "    <tr>\n",
       "      <th>...</th>\n",
       "      <td>...</td>\n",
       "      <td>...</td>\n",
       "      <td>...</td>\n",
       "    </tr>\n",
       "    <tr>\n",
       "      <th>65</th>\n",
       "      <td>Middle East and North Africa</td>\n",
       "      <td>Turkey</td>\n",
       "      <td>1</td>\n",
       "    </tr>\n",
       "    <tr>\n",
       "      <th>66</th>\n",
       "      <td>Western Europe</td>\n",
       "      <td>United Kingdom</td>\n",
       "      <td>1</td>\n",
       "    </tr>\n",
       "    <tr>\n",
       "      <th>67</th>\n",
       "      <td>Western Europe</td>\n",
       "      <td>United Kingdom</td>\n",
       "      <td>1</td>\n",
       "    </tr>\n",
       "    <tr>\n",
       "      <th>68</th>\n",
       "      <td>North America and ANZ</td>\n",
       "      <td>United States</td>\n",
       "      <td>1</td>\n",
       "    </tr>\n",
       "    <tr>\n",
       "      <th>69</th>\n",
       "      <td>North America and ANZ</td>\n",
       "      <td>United States</td>\n",
       "      <td>1</td>\n",
       "    </tr>\n",
       "  </tbody>\n",
       "</table>\n",
       "<p>70 rows × 3 columns</p>\n",
       "</div>"
      ],
      "text/plain": [
       "                          Region         Country  Netflix Access\n",
       "0    Latin America and Caribbean       Argentina               1\n",
       "1    Latin America and Caribbean       Argentina               1\n",
       "2          North America and ANZ       Australia               1\n",
       "3          North America and ANZ       Australia               1\n",
       "4                 Western Europe         Belgium               1\n",
       "..                           ...             ...             ...\n",
       "65  Middle East and North Africa          Turkey               1\n",
       "66                Western Europe  United Kingdom               1\n",
       "67                Western Europe  United Kingdom               1\n",
       "68         North America and ANZ   United States               1\n",
       "69         North America and ANZ   United States               1\n",
       "\n",
       "[70 rows x 3 columns]"
      ]
     },
     "execution_count": 23,
     "metadata": {},
     "output_type": "execute_result"
    }
   ],
   "source": [
    "netflix_countries = happynetflix_merge[['Region','Country']].copy()\n",
    "\n",
    "netflix_list = []\n",
    "\n",
    "for i in netflix_countries.index:\n",
    "    netflix_list.append(1) \n",
    "\n",
    "netflix_countries['Netflix Access'] = netflix_list\n",
    "netflix_countries\n"
   ]
  },
  {
   "cell_type": "code",
   "execution_count": 87,
   "metadata": {},
   "outputs": [],
   "source": [
    "all_countries = world_happiness_report_sub[['Region','Country']].copy()\n",
    "netflix_access = pd.merge(netflix_countries,all_countries,on=['Region','Country'], how='outer')\n",
    "netflix_access = netflix_access.fillna(0)\n",
    "netflix_access = netflix_access.drop_duplicates(subset='Country', keep='first')\n",
    "netflix_access = netflix_access.reset_index(drop=True)\n",
    "netflix_access\n",
    "netflix_access.to_csv(r'netflix_access.csv')"
   ]
  },
  {
   "cell_type": "code",
   "execution_count": 71,
   "metadata": {},
   "outputs": [],
   "source": [
    "data = dict(type = 'choropleth',\n",
    "            colorscale = 'oxy',\n",
    "            locations = netflix_access['Country'],\n",
    "            locationmode = 'country names',\n",
    "            z = netflix_access['Netflix Access'],\n",
    "            colorbar = {'title': 'Netflix Access'}\n",
    "        )"
   ]
  },
  {
   "cell_type": "code",
   "execution_count": 74,
   "metadata": {},
   "outputs": [],
   "source": [
    "layout = dict(title = 'Netflix Access Worldwide',\n",
    "                geo = dict(projection = {'type':'mercator'}))"
   ]
  },
  {
   "cell_type": "code",
   "execution_count": 86,
   "metadata": {},
   "outputs": [
    {
     "data": {
      "application/vnd.plotly.v1+json": {
       "config": {
        "plotlyServerURL": "https://plot.ly"
       },
       "data": [
        {
         "colorbar": {
          "title": {
           "text": "Netflix Access"
          }
         },
         "colorscale": [
          [
           0,
           "rgb(63, 5, 5)"
          ],
          [
           0.09090909090909091,
           "rgb(101, 6, 13)"
          ],
          [
           0.18181818181818182,
           "rgb(138, 17, 9)"
          ],
          [
           0.2727272727272727,
           "rgb(96, 95, 95)"
          ],
          [
           0.36363636363636365,
           "rgb(119, 118, 118)"
          ],
          [
           0.45454545454545453,
           "rgb(142, 141, 141)"
          ],
          [
           0.5454545454545454,
           "rgb(166, 166, 165)"
          ],
          [
           0.6363636363636364,
           "rgb(193, 192, 191)"
          ],
          [
           0.7272727272727273,
           "rgb(222, 222, 220)"
          ],
          [
           0.8181818181818182,
           "rgb(239, 248, 90)"
          ],
          [
           0.9090909090909091,
           "rgb(230, 210, 41)"
          ],
          [
           1,
           "rgb(220, 174, 25)"
          ]
         ],
         "locationmode": "country names",
         "locations": [
          "Argentina",
          "Australia",
          "Belgium",
          "Brazil",
          "Canada",
          "Colombia",
          "Czech Republic",
          "France",
          "Germany",
          "Greece",
          "Hungary",
          "Iceland",
          "India",
          "Israel",
          "Italy",
          "Japan",
          "Lithuania",
          "Malaysia",
          "Mexico",
          "Netherlands",
          "Poland",
          "Portugal",
          "Romania",
          "Russia",
          "Singapore",
          "Slovakia",
          "South Africa",
          "South Korea",
          "Spain",
          "Sweden",
          "Switzerland",
          "Thailand",
          "Turkey",
          "United Kingdom",
          "United States",
          "Finland",
          "Denmark",
          "Norway",
          "Luxembourg",
          "New Zealand",
          "Austria",
          "Ireland",
          "Costa Rica",
          "Bahrain",
          "Malta",
          "Taiwan Province of China",
          "United Arab Emirates",
          "Saudi Arabia",
          "Slovenia",
          "Guatemala",
          "Uruguay",
          "Kosovo",
          "Jamaica",
          "Cyprus",
          "Estonia",
          "Panama",
          "Uzbekistan",
          "Chile",
          "Kazakhstan",
          "Kuwait",
          "Serbia",
          "El Salvador",
          "Mauritius",
          "Latvia",
          "Nicaragua",
          "Honduras",
          "Croatia",
          "Philippines",
          "Peru",
          "Bosnia and Herzegovina",
          "Moldova",
          "Ecuador",
          "Kyrgyzstan",
          "Bolivia",
          "Mongolia",
          "Paraguay",
          "Montenegro",
          "Dominican Republic",
          "North Cyprus",
          "Belarus",
          "Hong Kong S.A.R. of China",
          "Tajikistan",
          "Vietnam",
          "Libya",
          "Indonesia",
          "Congo (Brazzaville)",
          "China",
          "Ivory Coast",
          "Armenia",
          "Nepal",
          "Bulgaria",
          "Maldives",
          "Azerbaijan",
          "Cameroon",
          "Senegal",
          "Albania",
          "North Macedonia",
          "Ghana",
          "Niger",
          "Turkmenistan",
          "Gambia",
          "Benin",
          "Laos",
          "Bangladesh",
          "Guinea",
          "Pakistan",
          "Morocco",
          "Venezuela",
          "Georgia",
          "Algeria",
          "Ukraine",
          "Iraq",
          "Gabon",
          "Burkina Faso",
          "Cambodia",
          "Mozambique",
          "Nigeria",
          "Mali",
          "Iran",
          "Uganda",
          "Liberia",
          "Kenya",
          "Tunisia",
          "Lebanon",
          "Namibia",
          "Palestinian Territories",
          "Myanmar",
          "Jordan",
          "Chad",
          "Sri Lanka",
          "Swaziland",
          "Comoros",
          "Egypt",
          "Ethiopia",
          "Mauritania",
          "Madagascar",
          "Togo",
          "Zambia",
          "Sierra Leone",
          "Burundi",
          "Yemen",
          "Tanzania",
          "Haiti",
          "Malawi",
          "Lesotho",
          "Botswana",
          "Rwanda",
          "Zimbabwe",
          "Afghanistan"
         ],
         "type": "choropleth",
         "z": [
          1,
          1,
          1,
          1,
          1,
          1,
          1,
          1,
          1,
          1,
          1,
          1,
          1,
          1,
          1,
          1,
          1,
          1,
          1,
          1,
          1,
          1,
          1,
          1,
          1,
          1,
          1,
          1,
          1,
          1,
          1,
          1,
          1,
          1,
          1,
          0,
          0,
          0,
          0,
          0,
          0,
          0,
          0,
          0,
          0,
          0,
          0,
          0,
          0,
          0,
          0,
          0,
          0,
          0,
          0,
          0,
          0,
          0,
          0,
          0,
          0,
          0,
          0,
          0,
          0,
          0,
          0,
          0,
          0,
          0,
          0,
          0,
          0,
          0,
          0,
          0,
          0,
          0,
          0,
          0,
          0,
          0,
          0,
          0,
          0,
          0,
          0,
          0,
          0,
          0,
          0,
          0,
          0,
          0,
          0,
          0,
          0,
          0,
          0,
          0,
          0,
          0,
          0,
          0,
          0,
          0,
          0,
          0,
          0,
          0,
          0,
          0,
          0,
          0,
          0,
          0,
          0,
          0,
          0,
          0,
          0,
          0,
          0,
          0,
          0,
          0,
          0,
          0,
          0,
          0,
          0,
          0,
          0,
          0,
          0,
          0,
          0,
          0,
          0,
          0,
          0,
          0,
          0,
          0,
          0,
          0,
          0,
          0,
          0
         ]
        }
       ],
       "layout": {
        "geo": {
         "projection": {
          "type": "mercator"
         }
        },
        "height": 600,
        "template": {
         "data": {
          "bar": [
           {
            "error_x": {
             "color": "#2a3f5f"
            },
            "error_y": {
             "color": "#2a3f5f"
            },
            "marker": {
             "line": {
              "color": "#E5ECF6",
              "width": 0.5
             }
            },
            "type": "bar"
           }
          ],
          "barpolar": [
           {
            "marker": {
             "line": {
              "color": "#E5ECF6",
              "width": 0.5
             }
            },
            "type": "barpolar"
           }
          ],
          "carpet": [
           {
            "aaxis": {
             "endlinecolor": "#2a3f5f",
             "gridcolor": "white",
             "linecolor": "white",
             "minorgridcolor": "white",
             "startlinecolor": "#2a3f5f"
            },
            "baxis": {
             "endlinecolor": "#2a3f5f",
             "gridcolor": "white",
             "linecolor": "white",
             "minorgridcolor": "white",
             "startlinecolor": "#2a3f5f"
            },
            "type": "carpet"
           }
          ],
          "choropleth": [
           {
            "colorbar": {
             "outlinewidth": 0,
             "ticks": ""
            },
            "type": "choropleth"
           }
          ],
          "contour": [
           {
            "colorbar": {
             "outlinewidth": 0,
             "ticks": ""
            },
            "colorscale": [
             [
              0,
              "#0d0887"
             ],
             [
              0.1111111111111111,
              "#46039f"
             ],
             [
              0.2222222222222222,
              "#7201a8"
             ],
             [
              0.3333333333333333,
              "#9c179e"
             ],
             [
              0.4444444444444444,
              "#bd3786"
             ],
             [
              0.5555555555555556,
              "#d8576b"
             ],
             [
              0.6666666666666666,
              "#ed7953"
             ],
             [
              0.7777777777777778,
              "#fb9f3a"
             ],
             [
              0.8888888888888888,
              "#fdca26"
             ],
             [
              1,
              "#f0f921"
             ]
            ],
            "type": "contour"
           }
          ],
          "contourcarpet": [
           {
            "colorbar": {
             "outlinewidth": 0,
             "ticks": ""
            },
            "type": "contourcarpet"
           }
          ],
          "heatmap": [
           {
            "colorbar": {
             "outlinewidth": 0,
             "ticks": ""
            },
            "colorscale": [
             [
              0,
              "#0d0887"
             ],
             [
              0.1111111111111111,
              "#46039f"
             ],
             [
              0.2222222222222222,
              "#7201a8"
             ],
             [
              0.3333333333333333,
              "#9c179e"
             ],
             [
              0.4444444444444444,
              "#bd3786"
             ],
             [
              0.5555555555555556,
              "#d8576b"
             ],
             [
              0.6666666666666666,
              "#ed7953"
             ],
             [
              0.7777777777777778,
              "#fb9f3a"
             ],
             [
              0.8888888888888888,
              "#fdca26"
             ],
             [
              1,
              "#f0f921"
             ]
            ],
            "type": "heatmap"
           }
          ],
          "heatmapgl": [
           {
            "colorbar": {
             "outlinewidth": 0,
             "ticks": ""
            },
            "colorscale": [
             [
              0,
              "#0d0887"
             ],
             [
              0.1111111111111111,
              "#46039f"
             ],
             [
              0.2222222222222222,
              "#7201a8"
             ],
             [
              0.3333333333333333,
              "#9c179e"
             ],
             [
              0.4444444444444444,
              "#bd3786"
             ],
             [
              0.5555555555555556,
              "#d8576b"
             ],
             [
              0.6666666666666666,
              "#ed7953"
             ],
             [
              0.7777777777777778,
              "#fb9f3a"
             ],
             [
              0.8888888888888888,
              "#fdca26"
             ],
             [
              1,
              "#f0f921"
             ]
            ],
            "type": "heatmapgl"
           }
          ],
          "histogram": [
           {
            "marker": {
             "colorbar": {
              "outlinewidth": 0,
              "ticks": ""
             }
            },
            "type": "histogram"
           }
          ],
          "histogram2d": [
           {
            "colorbar": {
             "outlinewidth": 0,
             "ticks": ""
            },
            "colorscale": [
             [
              0,
              "#0d0887"
             ],
             [
              0.1111111111111111,
              "#46039f"
             ],
             [
              0.2222222222222222,
              "#7201a8"
             ],
             [
              0.3333333333333333,
              "#9c179e"
             ],
             [
              0.4444444444444444,
              "#bd3786"
             ],
             [
              0.5555555555555556,
              "#d8576b"
             ],
             [
              0.6666666666666666,
              "#ed7953"
             ],
             [
              0.7777777777777778,
              "#fb9f3a"
             ],
             [
              0.8888888888888888,
              "#fdca26"
             ],
             [
              1,
              "#f0f921"
             ]
            ],
            "type": "histogram2d"
           }
          ],
          "histogram2dcontour": [
           {
            "colorbar": {
             "outlinewidth": 0,
             "ticks": ""
            },
            "colorscale": [
             [
              0,
              "#0d0887"
             ],
             [
              0.1111111111111111,
              "#46039f"
             ],
             [
              0.2222222222222222,
              "#7201a8"
             ],
             [
              0.3333333333333333,
              "#9c179e"
             ],
             [
              0.4444444444444444,
              "#bd3786"
             ],
             [
              0.5555555555555556,
              "#d8576b"
             ],
             [
              0.6666666666666666,
              "#ed7953"
             ],
             [
              0.7777777777777778,
              "#fb9f3a"
             ],
             [
              0.8888888888888888,
              "#fdca26"
             ],
             [
              1,
              "#f0f921"
             ]
            ],
            "type": "histogram2dcontour"
           }
          ],
          "mesh3d": [
           {
            "colorbar": {
             "outlinewidth": 0,
             "ticks": ""
            },
            "type": "mesh3d"
           }
          ],
          "parcoords": [
           {
            "line": {
             "colorbar": {
              "outlinewidth": 0,
              "ticks": ""
             }
            },
            "type": "parcoords"
           }
          ],
          "pie": [
           {
            "automargin": true,
            "type": "pie"
           }
          ],
          "scatter": [
           {
            "marker": {
             "colorbar": {
              "outlinewidth": 0,
              "ticks": ""
             }
            },
            "type": "scatter"
           }
          ],
          "scatter3d": [
           {
            "line": {
             "colorbar": {
              "outlinewidth": 0,
              "ticks": ""
             }
            },
            "marker": {
             "colorbar": {
              "outlinewidth": 0,
              "ticks": ""
             }
            },
            "type": "scatter3d"
           }
          ],
          "scattercarpet": [
           {
            "marker": {
             "colorbar": {
              "outlinewidth": 0,
              "ticks": ""
             }
            },
            "type": "scattercarpet"
           }
          ],
          "scattergeo": [
           {
            "marker": {
             "colorbar": {
              "outlinewidth": 0,
              "ticks": ""
             }
            },
            "type": "scattergeo"
           }
          ],
          "scattergl": [
           {
            "marker": {
             "colorbar": {
              "outlinewidth": 0,
              "ticks": ""
             }
            },
            "type": "scattergl"
           }
          ],
          "scattermapbox": [
           {
            "marker": {
             "colorbar": {
              "outlinewidth": 0,
              "ticks": ""
             }
            },
            "type": "scattermapbox"
           }
          ],
          "scatterpolar": [
           {
            "marker": {
             "colorbar": {
              "outlinewidth": 0,
              "ticks": ""
             }
            },
            "type": "scatterpolar"
           }
          ],
          "scatterpolargl": [
           {
            "marker": {
             "colorbar": {
              "outlinewidth": 0,
              "ticks": ""
             }
            },
            "type": "scatterpolargl"
           }
          ],
          "scatterternary": [
           {
            "marker": {
             "colorbar": {
              "outlinewidth": 0,
              "ticks": ""
             }
            },
            "type": "scatterternary"
           }
          ],
          "surface": [
           {
            "colorbar": {
             "outlinewidth": 0,
             "ticks": ""
            },
            "colorscale": [
             [
              0,
              "#0d0887"
             ],
             [
              0.1111111111111111,
              "#46039f"
             ],
             [
              0.2222222222222222,
              "#7201a8"
             ],
             [
              0.3333333333333333,
              "#9c179e"
             ],
             [
              0.4444444444444444,
              "#bd3786"
             ],
             [
              0.5555555555555556,
              "#d8576b"
             ],
             [
              0.6666666666666666,
              "#ed7953"
             ],
             [
              0.7777777777777778,
              "#fb9f3a"
             ],
             [
              0.8888888888888888,
              "#fdca26"
             ],
             [
              1,
              "#f0f921"
             ]
            ],
            "type": "surface"
           }
          ],
          "table": [
           {
            "cells": {
             "fill": {
              "color": "#EBF0F8"
             },
             "line": {
              "color": "white"
             }
            },
            "header": {
             "fill": {
              "color": "#C8D4E3"
             },
             "line": {
              "color": "white"
             }
            },
            "type": "table"
           }
          ]
         },
         "layout": {
          "annotationdefaults": {
           "arrowcolor": "#2a3f5f",
           "arrowhead": 0,
           "arrowwidth": 1
          },
          "autotypenumbers": "strict",
          "coloraxis": {
           "colorbar": {
            "outlinewidth": 0,
            "ticks": ""
           }
          },
          "colorscale": {
           "diverging": [
            [
             0,
             "#8e0152"
            ],
            [
             0.1,
             "#c51b7d"
            ],
            [
             0.2,
             "#de77ae"
            ],
            [
             0.3,
             "#f1b6da"
            ],
            [
             0.4,
             "#fde0ef"
            ],
            [
             0.5,
             "#f7f7f7"
            ],
            [
             0.6,
             "#e6f5d0"
            ],
            [
             0.7,
             "#b8e186"
            ],
            [
             0.8,
             "#7fbc41"
            ],
            [
             0.9,
             "#4d9221"
            ],
            [
             1,
             "#276419"
            ]
           ],
           "sequential": [
            [
             0,
             "#0d0887"
            ],
            [
             0.1111111111111111,
             "#46039f"
            ],
            [
             0.2222222222222222,
             "#7201a8"
            ],
            [
             0.3333333333333333,
             "#9c179e"
            ],
            [
             0.4444444444444444,
             "#bd3786"
            ],
            [
             0.5555555555555556,
             "#d8576b"
            ],
            [
             0.6666666666666666,
             "#ed7953"
            ],
            [
             0.7777777777777778,
             "#fb9f3a"
            ],
            [
             0.8888888888888888,
             "#fdca26"
            ],
            [
             1,
             "#f0f921"
            ]
           ],
           "sequentialminus": [
            [
             0,
             "#0d0887"
            ],
            [
             0.1111111111111111,
             "#46039f"
            ],
            [
             0.2222222222222222,
             "#7201a8"
            ],
            [
             0.3333333333333333,
             "#9c179e"
            ],
            [
             0.4444444444444444,
             "#bd3786"
            ],
            [
             0.5555555555555556,
             "#d8576b"
            ],
            [
             0.6666666666666666,
             "#ed7953"
            ],
            [
             0.7777777777777778,
             "#fb9f3a"
            ],
            [
             0.8888888888888888,
             "#fdca26"
            ],
            [
             1,
             "#f0f921"
            ]
           ]
          },
          "colorway": [
           "#636efa",
           "#EF553B",
           "#00cc96",
           "#ab63fa",
           "#FFA15A",
           "#19d3f3",
           "#FF6692",
           "#B6E880",
           "#FF97FF",
           "#FECB52"
          ],
          "font": {
           "color": "#2a3f5f"
          },
          "geo": {
           "bgcolor": "white",
           "lakecolor": "white",
           "landcolor": "#E5ECF6",
           "showlakes": true,
           "showland": true,
           "subunitcolor": "white"
          },
          "hoverlabel": {
           "align": "left"
          },
          "hovermode": "closest",
          "mapbox": {
           "style": "light"
          },
          "paper_bgcolor": "white",
          "plot_bgcolor": "#E5ECF6",
          "polar": {
           "angularaxis": {
            "gridcolor": "white",
            "linecolor": "white",
            "ticks": ""
           },
           "bgcolor": "#E5ECF6",
           "radialaxis": {
            "gridcolor": "white",
            "linecolor": "white",
            "ticks": ""
           }
          },
          "scene": {
           "xaxis": {
            "backgroundcolor": "#E5ECF6",
            "gridcolor": "white",
            "gridwidth": 2,
            "linecolor": "white",
            "showbackground": true,
            "ticks": "",
            "zerolinecolor": "white"
           },
           "yaxis": {
            "backgroundcolor": "#E5ECF6",
            "gridcolor": "white",
            "gridwidth": 2,
            "linecolor": "white",
            "showbackground": true,
            "ticks": "",
            "zerolinecolor": "white"
           },
           "zaxis": {
            "backgroundcolor": "#E5ECF6",
            "gridcolor": "white",
            "gridwidth": 2,
            "linecolor": "white",
            "showbackground": true,
            "ticks": "",
            "zerolinecolor": "white"
           }
          },
          "shapedefaults": {
           "line": {
            "color": "#2a3f5f"
           }
          },
          "ternary": {
           "aaxis": {
            "gridcolor": "white",
            "linecolor": "white",
            "ticks": ""
           },
           "baxis": {
            "gridcolor": "white",
            "linecolor": "white",
            "ticks": ""
           },
           "bgcolor": "#E5ECF6",
           "caxis": {
            "gridcolor": "white",
            "linecolor": "white",
            "ticks": ""
           }
          },
          "title": {
           "x": 0.05
          },
          "xaxis": {
           "automargin": true,
           "gridcolor": "white",
           "linecolor": "white",
           "ticks": "",
           "title": {
            "standoff": 15
           },
           "zerolinecolor": "white",
           "zerolinewidth": 2
          },
          "yaxis": {
           "automargin": true,
           "gridcolor": "white",
           "linecolor": "white",
           "ticks": "",
           "title": {
            "standoff": 15
           },
           "zerolinecolor": "white",
           "zerolinewidth": 2
          }
         }
        },
        "title": {
         "text": "Netflix Access Worldwide"
        },
        "width": 1500
       }
      },
      "text/html": [
       "<div>                            <div id=\"a0b77aa0-8e4e-4ebe-b73c-6f1ce7355893\" class=\"plotly-graph-div\" style=\"height:600px; width:1500px;\"></div>            <script type=\"text/javascript\">                require([\"plotly\"], function(Plotly) {                    window.PLOTLYENV=window.PLOTLYENV || {};                                    if (document.getElementById(\"a0b77aa0-8e4e-4ebe-b73c-6f1ce7355893\")) {                    Plotly.newPlot(                        \"a0b77aa0-8e4e-4ebe-b73c-6f1ce7355893\",                        [{\"colorbar\": {\"title\": {\"text\": \"Netflix Access\"}}, \"colorscale\": [[0.0, \"rgb(63, 5, 5)\"], [0.09090909090909091, \"rgb(101, 6, 13)\"], [0.18181818181818182, \"rgb(138, 17, 9)\"], [0.2727272727272727, \"rgb(96, 95, 95)\"], [0.36363636363636365, \"rgb(119, 118, 118)\"], [0.45454545454545453, \"rgb(142, 141, 141)\"], [0.5454545454545454, \"rgb(166, 166, 165)\"], [0.6363636363636364, \"rgb(193, 192, 191)\"], [0.7272727272727273, \"rgb(222, 222, 220)\"], [0.8181818181818182, \"rgb(239, 248, 90)\"], [0.9090909090909091, \"rgb(230, 210, 41)\"], [1.0, \"rgb(220, 174, 25)\"]], \"locationmode\": \"country names\", \"locations\": [\"Argentina\", \"Australia\", \"Belgium\", \"Brazil\", \"Canada\", \"Colombia\", \"Czech Republic\", \"France\", \"Germany\", \"Greece\", \"Hungary\", \"Iceland\", \"India\", \"Israel\", \"Italy\", \"Japan\", \"Lithuania\", \"Malaysia\", \"Mexico\", \"Netherlands\", \"Poland\", \"Portugal\", \"Romania\", \"Russia\", \"Singapore\", \"Slovakia\", \"South Africa\", \"South Korea\", \"Spain\", \"Sweden\", \"Switzerland\", \"Thailand\", \"Turkey\", \"United Kingdom\", \"United States\", \"Finland\", \"Denmark\", \"Norway\", \"Luxembourg\", \"New Zealand\", \"Austria\", \"Ireland\", \"Costa Rica\", \"Bahrain\", \"Malta\", \"Taiwan Province of China\", \"United Arab Emirates\", \"Saudi Arabia\", \"Slovenia\", \"Guatemala\", \"Uruguay\", \"Kosovo\", \"Jamaica\", \"Cyprus\", \"Estonia\", \"Panama\", \"Uzbekistan\", \"Chile\", \"Kazakhstan\", \"Kuwait\", \"Serbia\", \"El Salvador\", \"Mauritius\", \"Latvia\", \"Nicaragua\", \"Honduras\", \"Croatia\", \"Philippines\", \"Peru\", \"Bosnia and Herzegovina\", \"Moldova\", \"Ecuador\", \"Kyrgyzstan\", \"Bolivia\", \"Mongolia\", \"Paraguay\", \"Montenegro\", \"Dominican Republic\", \"North Cyprus\", \"Belarus\", \"Hong Kong S.A.R. of China\", \"Tajikistan\", \"Vietnam\", \"Libya\", \"Indonesia\", \"Congo (Brazzaville)\", \"China\", \"Ivory Coast\", \"Armenia\", \"Nepal\", \"Bulgaria\", \"Maldives\", \"Azerbaijan\", \"Cameroon\", \"Senegal\", \"Albania\", \"North Macedonia\", \"Ghana\", \"Niger\", \"Turkmenistan\", \"Gambia\", \"Benin\", \"Laos\", \"Bangladesh\", \"Guinea\", \"Pakistan\", \"Morocco\", \"Venezuela\", \"Georgia\", \"Algeria\", \"Ukraine\", \"Iraq\", \"Gabon\", \"Burkina Faso\", \"Cambodia\", \"Mozambique\", \"Nigeria\", \"Mali\", \"Iran\", \"Uganda\", \"Liberia\", \"Kenya\", \"Tunisia\", \"Lebanon\", \"Namibia\", \"Palestinian Territories\", \"Myanmar\", \"Jordan\", \"Chad\", \"Sri Lanka\", \"Swaziland\", \"Comoros\", \"Egypt\", \"Ethiopia\", \"Mauritania\", \"Madagascar\", \"Togo\", \"Zambia\", \"Sierra Leone\", \"Burundi\", \"Yemen\", \"Tanzania\", \"Haiti\", \"Malawi\", \"Lesotho\", \"Botswana\", \"Rwanda\", \"Zimbabwe\", \"Afghanistan\"], \"type\": \"choropleth\", \"z\": [1.0, 1.0, 1.0, 1.0, 1.0, 1.0, 1.0, 1.0, 1.0, 1.0, 1.0, 1.0, 1.0, 1.0, 1.0, 1.0, 1.0, 1.0, 1.0, 1.0, 1.0, 1.0, 1.0, 1.0, 1.0, 1.0, 1.0, 1.0, 1.0, 1.0, 1.0, 1.0, 1.0, 1.0, 1.0, 0.0, 0.0, 0.0, 0.0, 0.0, 0.0, 0.0, 0.0, 0.0, 0.0, 0.0, 0.0, 0.0, 0.0, 0.0, 0.0, 0.0, 0.0, 0.0, 0.0, 0.0, 0.0, 0.0, 0.0, 0.0, 0.0, 0.0, 0.0, 0.0, 0.0, 0.0, 0.0, 0.0, 0.0, 0.0, 0.0, 0.0, 0.0, 0.0, 0.0, 0.0, 0.0, 0.0, 0.0, 0.0, 0.0, 0.0, 0.0, 0.0, 0.0, 0.0, 0.0, 0.0, 0.0, 0.0, 0.0, 0.0, 0.0, 0.0, 0.0, 0.0, 0.0, 0.0, 0.0, 0.0, 0.0, 0.0, 0.0, 0.0, 0.0, 0.0, 0.0, 0.0, 0.0, 0.0, 0.0, 0.0, 0.0, 0.0, 0.0, 0.0, 0.0, 0.0, 0.0, 0.0, 0.0, 0.0, 0.0, 0.0, 0.0, 0.0, 0.0, 0.0, 0.0, 0.0, 0.0, 0.0, 0.0, 0.0, 0.0, 0.0, 0.0, 0.0, 0.0, 0.0, 0.0, 0.0, 0.0, 0.0, 0.0, 0.0, 0.0, 0.0, 0.0]}],                        {\"geo\": {\"projection\": {\"type\": \"mercator\"}}, \"height\": 600, \"template\": {\"data\": {\"bar\": [{\"error_x\": {\"color\": \"#2a3f5f\"}, \"error_y\": {\"color\": \"#2a3f5f\"}, \"marker\": {\"line\": {\"color\": \"#E5ECF6\", \"width\": 0.5}}, \"type\": \"bar\"}], \"barpolar\": [{\"marker\": {\"line\": {\"color\": \"#E5ECF6\", \"width\": 0.5}}, \"type\": \"barpolar\"}], \"carpet\": [{\"aaxis\": {\"endlinecolor\": \"#2a3f5f\", \"gridcolor\": \"white\", \"linecolor\": \"white\", \"minorgridcolor\": \"white\", \"startlinecolor\": \"#2a3f5f\"}, \"baxis\": {\"endlinecolor\": \"#2a3f5f\", \"gridcolor\": \"white\", \"linecolor\": \"white\", \"minorgridcolor\": \"white\", \"startlinecolor\": \"#2a3f5f\"}, \"type\": \"carpet\"}], \"choropleth\": [{\"colorbar\": {\"outlinewidth\": 0, \"ticks\": \"\"}, \"type\": \"choropleth\"}], \"contour\": [{\"colorbar\": {\"outlinewidth\": 0, \"ticks\": \"\"}, \"colorscale\": [[0.0, \"#0d0887\"], [0.1111111111111111, \"#46039f\"], [0.2222222222222222, \"#7201a8\"], [0.3333333333333333, \"#9c179e\"], [0.4444444444444444, \"#bd3786\"], [0.5555555555555556, \"#d8576b\"], [0.6666666666666666, \"#ed7953\"], [0.7777777777777778, \"#fb9f3a\"], [0.8888888888888888, \"#fdca26\"], [1.0, \"#f0f921\"]], \"type\": \"contour\"}], \"contourcarpet\": [{\"colorbar\": {\"outlinewidth\": 0, \"ticks\": \"\"}, \"type\": \"contourcarpet\"}], \"heatmap\": [{\"colorbar\": {\"outlinewidth\": 0, \"ticks\": \"\"}, \"colorscale\": [[0.0, \"#0d0887\"], [0.1111111111111111, \"#46039f\"], [0.2222222222222222, \"#7201a8\"], [0.3333333333333333, \"#9c179e\"], [0.4444444444444444, \"#bd3786\"], [0.5555555555555556, \"#d8576b\"], [0.6666666666666666, \"#ed7953\"], [0.7777777777777778, \"#fb9f3a\"], [0.8888888888888888, \"#fdca26\"], [1.0, \"#f0f921\"]], \"type\": \"heatmap\"}], \"heatmapgl\": [{\"colorbar\": {\"outlinewidth\": 0, \"ticks\": \"\"}, \"colorscale\": [[0.0, \"#0d0887\"], [0.1111111111111111, \"#46039f\"], [0.2222222222222222, \"#7201a8\"], [0.3333333333333333, \"#9c179e\"], [0.4444444444444444, \"#bd3786\"], [0.5555555555555556, \"#d8576b\"], [0.6666666666666666, \"#ed7953\"], [0.7777777777777778, \"#fb9f3a\"], [0.8888888888888888, \"#fdca26\"], [1.0, \"#f0f921\"]], \"type\": \"heatmapgl\"}], \"histogram\": [{\"marker\": {\"colorbar\": {\"outlinewidth\": 0, \"ticks\": \"\"}}, \"type\": \"histogram\"}], \"histogram2d\": [{\"colorbar\": {\"outlinewidth\": 0, \"ticks\": \"\"}, \"colorscale\": [[0.0, \"#0d0887\"], [0.1111111111111111, \"#46039f\"], [0.2222222222222222, \"#7201a8\"], [0.3333333333333333, \"#9c179e\"], [0.4444444444444444, \"#bd3786\"], [0.5555555555555556, \"#d8576b\"], [0.6666666666666666, \"#ed7953\"], [0.7777777777777778, \"#fb9f3a\"], [0.8888888888888888, \"#fdca26\"], [1.0, \"#f0f921\"]], \"type\": \"histogram2d\"}], \"histogram2dcontour\": [{\"colorbar\": {\"outlinewidth\": 0, \"ticks\": \"\"}, \"colorscale\": [[0.0, \"#0d0887\"], [0.1111111111111111, \"#46039f\"], [0.2222222222222222, \"#7201a8\"], [0.3333333333333333, \"#9c179e\"], [0.4444444444444444, \"#bd3786\"], [0.5555555555555556, \"#d8576b\"], [0.6666666666666666, \"#ed7953\"], [0.7777777777777778, \"#fb9f3a\"], [0.8888888888888888, \"#fdca26\"], [1.0, \"#f0f921\"]], \"type\": \"histogram2dcontour\"}], \"mesh3d\": [{\"colorbar\": {\"outlinewidth\": 0, \"ticks\": \"\"}, \"type\": \"mesh3d\"}], \"parcoords\": [{\"line\": {\"colorbar\": {\"outlinewidth\": 0, \"ticks\": \"\"}}, \"type\": \"parcoords\"}], \"pie\": [{\"automargin\": true, \"type\": \"pie\"}], \"scatter\": [{\"marker\": {\"colorbar\": {\"outlinewidth\": 0, \"ticks\": \"\"}}, \"type\": \"scatter\"}], \"scatter3d\": [{\"line\": {\"colorbar\": {\"outlinewidth\": 0, \"ticks\": \"\"}}, \"marker\": {\"colorbar\": {\"outlinewidth\": 0, \"ticks\": \"\"}}, \"type\": \"scatter3d\"}], \"scattercarpet\": [{\"marker\": {\"colorbar\": {\"outlinewidth\": 0, \"ticks\": \"\"}}, \"type\": \"scattercarpet\"}], \"scattergeo\": [{\"marker\": {\"colorbar\": {\"outlinewidth\": 0, \"ticks\": \"\"}}, \"type\": \"scattergeo\"}], \"scattergl\": [{\"marker\": {\"colorbar\": {\"outlinewidth\": 0, \"ticks\": \"\"}}, \"type\": \"scattergl\"}], \"scattermapbox\": [{\"marker\": {\"colorbar\": {\"outlinewidth\": 0, \"ticks\": \"\"}}, \"type\": \"scattermapbox\"}], \"scatterpolar\": [{\"marker\": {\"colorbar\": {\"outlinewidth\": 0, \"ticks\": \"\"}}, \"type\": \"scatterpolar\"}], \"scatterpolargl\": [{\"marker\": {\"colorbar\": {\"outlinewidth\": 0, \"ticks\": \"\"}}, \"type\": \"scatterpolargl\"}], \"scatterternary\": [{\"marker\": {\"colorbar\": {\"outlinewidth\": 0, \"ticks\": \"\"}}, \"type\": \"scatterternary\"}], \"surface\": [{\"colorbar\": {\"outlinewidth\": 0, \"ticks\": \"\"}, \"colorscale\": [[0.0, \"#0d0887\"], [0.1111111111111111, \"#46039f\"], [0.2222222222222222, \"#7201a8\"], [0.3333333333333333, \"#9c179e\"], [0.4444444444444444, \"#bd3786\"], [0.5555555555555556, \"#d8576b\"], [0.6666666666666666, \"#ed7953\"], [0.7777777777777778, \"#fb9f3a\"], [0.8888888888888888, \"#fdca26\"], [1.0, \"#f0f921\"]], \"type\": \"surface\"}], \"table\": [{\"cells\": {\"fill\": {\"color\": \"#EBF0F8\"}, \"line\": {\"color\": \"white\"}}, \"header\": {\"fill\": {\"color\": \"#C8D4E3\"}, \"line\": {\"color\": \"white\"}}, \"type\": \"table\"}]}, \"layout\": {\"annotationdefaults\": {\"arrowcolor\": \"#2a3f5f\", \"arrowhead\": 0, \"arrowwidth\": 1}, \"autotypenumbers\": \"strict\", \"coloraxis\": {\"colorbar\": {\"outlinewidth\": 0, \"ticks\": \"\"}}, \"colorscale\": {\"diverging\": [[0, \"#8e0152\"], [0.1, \"#c51b7d\"], [0.2, \"#de77ae\"], [0.3, \"#f1b6da\"], [0.4, \"#fde0ef\"], [0.5, \"#f7f7f7\"], [0.6, \"#e6f5d0\"], [0.7, \"#b8e186\"], [0.8, \"#7fbc41\"], [0.9, \"#4d9221\"], [1, \"#276419\"]], \"sequential\": [[0.0, \"#0d0887\"], [0.1111111111111111, \"#46039f\"], [0.2222222222222222, \"#7201a8\"], [0.3333333333333333, \"#9c179e\"], [0.4444444444444444, \"#bd3786\"], [0.5555555555555556, \"#d8576b\"], [0.6666666666666666, \"#ed7953\"], [0.7777777777777778, \"#fb9f3a\"], [0.8888888888888888, \"#fdca26\"], [1.0, \"#f0f921\"]], \"sequentialminus\": [[0.0, \"#0d0887\"], [0.1111111111111111, \"#46039f\"], [0.2222222222222222, \"#7201a8\"], [0.3333333333333333, \"#9c179e\"], [0.4444444444444444, \"#bd3786\"], [0.5555555555555556, \"#d8576b\"], [0.6666666666666666, \"#ed7953\"], [0.7777777777777778, \"#fb9f3a\"], [0.8888888888888888, \"#fdca26\"], [1.0, \"#f0f921\"]]}, \"colorway\": [\"#636efa\", \"#EF553B\", \"#00cc96\", \"#ab63fa\", \"#FFA15A\", \"#19d3f3\", \"#FF6692\", \"#B6E880\", \"#FF97FF\", \"#FECB52\"], \"font\": {\"color\": \"#2a3f5f\"}, \"geo\": {\"bgcolor\": \"white\", \"lakecolor\": \"white\", \"landcolor\": \"#E5ECF6\", \"showlakes\": true, \"showland\": true, \"subunitcolor\": \"white\"}, \"hoverlabel\": {\"align\": \"left\"}, \"hovermode\": \"closest\", \"mapbox\": {\"style\": \"light\"}, \"paper_bgcolor\": \"white\", \"plot_bgcolor\": \"#E5ECF6\", \"polar\": {\"angularaxis\": {\"gridcolor\": \"white\", \"linecolor\": \"white\", \"ticks\": \"\"}, \"bgcolor\": \"#E5ECF6\", \"radialaxis\": {\"gridcolor\": \"white\", \"linecolor\": \"white\", \"ticks\": \"\"}}, \"scene\": {\"xaxis\": {\"backgroundcolor\": \"#E5ECF6\", \"gridcolor\": \"white\", \"gridwidth\": 2, \"linecolor\": \"white\", \"showbackground\": true, \"ticks\": \"\", \"zerolinecolor\": \"white\"}, \"yaxis\": {\"backgroundcolor\": \"#E5ECF6\", \"gridcolor\": \"white\", \"gridwidth\": 2, \"linecolor\": \"white\", \"showbackground\": true, \"ticks\": \"\", \"zerolinecolor\": \"white\"}, \"zaxis\": {\"backgroundcolor\": \"#E5ECF6\", \"gridcolor\": \"white\", \"gridwidth\": 2, \"linecolor\": \"white\", \"showbackground\": true, \"ticks\": \"\", \"zerolinecolor\": \"white\"}}, \"shapedefaults\": {\"line\": {\"color\": \"#2a3f5f\"}}, \"ternary\": {\"aaxis\": {\"gridcolor\": \"white\", \"linecolor\": \"white\", \"ticks\": \"\"}, \"baxis\": {\"gridcolor\": \"white\", \"linecolor\": \"white\", \"ticks\": \"\"}, \"bgcolor\": \"#E5ECF6\", \"caxis\": {\"gridcolor\": \"white\", \"linecolor\": \"white\", \"ticks\": \"\"}}, \"title\": {\"x\": 0.05}, \"xaxis\": {\"automargin\": true, \"gridcolor\": \"white\", \"linecolor\": \"white\", \"ticks\": \"\", \"title\": {\"standoff\": 15}, \"zerolinecolor\": \"white\", \"zerolinewidth\": 2}, \"yaxis\": {\"automargin\": true, \"gridcolor\": \"white\", \"linecolor\": \"white\", \"ticks\": \"\", \"title\": {\"standoff\": 15}, \"zerolinecolor\": \"white\", \"zerolinewidth\": 2}}}, \"title\": {\"text\": \"Netflix Access Worldwide\"}, \"width\": 1500},                        {\"responsive\": true}                    ).then(function(){\n",
       "                            \n",
       "var gd = document.getElementById('a0b77aa0-8e4e-4ebe-b73c-6f1ce7355893');\n",
       "var x = new MutationObserver(function (mutations, observer) {{\n",
       "        var display = window.getComputedStyle(gd).display;\n",
       "        if (!display || display === 'none') {{\n",
       "            console.log([gd, 'removed!']);\n",
       "            Plotly.purge(gd);\n",
       "            observer.disconnect();\n",
       "        }}\n",
       "}});\n",
       "\n",
       "// Listen for the removal of the full notebook cells\n",
       "var notebookContainer = gd.closest('#notebook-container');\n",
       "if (notebookContainer) {{\n",
       "    x.observe(notebookContainer, {childList: true});\n",
       "}}\n",
       "\n",
       "// Listen for the clearing of the current output cell\n",
       "var outputEl = gd.closest('.output');\n",
       "if (outputEl) {{\n",
       "    x.observe(outputEl, {childList: true});\n",
       "}}\n",
       "\n",
       "                        })                };                });            </script>        </div>"
      ]
     },
     "metadata": {},
     "output_type": "display_data"
    }
   ],
   "source": [
    "choromap = go.Figure(data = data, layout = layout)\n",
    "# iplot(choromap,validate = False)\n",
    "choromap.update_layout(height=600,width=1500)"
   ]
  },
  {
   "cell_type": "code",
   "execution_count": 6,
   "metadata": {},
   "outputs": [],
   "source": [
    "# File to Load \n",
    "file_to_load_two = 'Data Sets/Netflix Subscribers and Revenue by Country/DataNetflixRevenue2020_V2.csv'\n",
    "netflix_subscribers_country= pd.read_csv(file_to_load_two)"
   ]
  },
  {
   "cell_type": "code",
   "execution_count": 7,
   "metadata": {},
   "outputs": [
    {
     "data": {
      "text/html": [
       "<div>\n",
       "<style scoped>\n",
       "    .dataframe tbody tr th:only-of-type {\n",
       "        vertical-align: middle;\n",
       "    }\n",
       "\n",
       "    .dataframe tbody tr th {\n",
       "        vertical-align: top;\n",
       "    }\n",
       "\n",
       "    .dataframe thead th {\n",
       "        text-align: right;\n",
       "    }\n",
       "</style>\n",
       "<table border=\"1\" class=\"dataframe\">\n",
       "  <thead>\n",
       "    <tr style=\"text-align: right;\">\n",
       "      <th></th>\n",
       "      <th></th>\n",
       "      <th>Revenue</th>\n",
       "    </tr>\n",
       "    <tr>\n",
       "      <th>Area</th>\n",
       "      <th>Years</th>\n",
       "      <th></th>\n",
       "    </tr>\n",
       "  </thead>\n",
       "  <tbody>\n",
       "    <tr>\n",
       "      <th rowspan=\"10\" valign=\"top\">Asia-Pacific</th>\n",
       "      <th>Q1 - 2018</th>\n",
       "      <td>199117000</td>\n",
       "    </tr>\n",
       "    <tr>\n",
       "      <th>Q1 - 2019</th>\n",
       "      <td>319602000</td>\n",
       "    </tr>\n",
       "    <tr>\n",
       "      <th>Q1 - 2020</th>\n",
       "      <td>483660000</td>\n",
       "    </tr>\n",
       "    <tr>\n",
       "      <th>Q2 - 2018</th>\n",
       "      <td>221252000</td>\n",
       "    </tr>\n",
       "    <tr>\n",
       "      <th>Q2 - 2019</th>\n",
       "      <td>349494000</td>\n",
       "    </tr>\n",
       "    <tr>\n",
       "      <th>Q2 - 2020</th>\n",
       "      <td>569140000</td>\n",
       "    </tr>\n",
       "    <tr>\n",
       "      <th>Q3 - 2018</th>\n",
       "      <td>248691000</td>\n",
       "    </tr>\n",
       "    <tr>\n",
       "      <th>Q3 - 2019</th>\n",
       "      <td>382304000</td>\n",
       "    </tr>\n",
       "    <tr>\n",
       "      <th>Q4 - 2018</th>\n",
       "      <td>276756000</td>\n",
       "    </tr>\n",
       "    <tr>\n",
       "      <th>Q4 - 2019</th>\n",
       "      <td>418121000</td>\n",
       "    </tr>\n",
       "    <tr>\n",
       "      <th rowspan=\"10\" valign=\"top\">Europe,  Middle East and Africa</th>\n",
       "      <th>Q1 - 2018</th>\n",
       "      <td>886649000</td>\n",
       "    </tr>\n",
       "    <tr>\n",
       "      <th>Q1 - 2019</th>\n",
       "      <td>1233379000</td>\n",
       "    </tr>\n",
       "    <tr>\n",
       "      <th>Q1 - 2020</th>\n",
       "      <td>1723474000</td>\n",
       "    </tr>\n",
       "    <tr>\n",
       "      <th>Q2 - 2018</th>\n",
       "      <td>975497000</td>\n",
       "    </tr>\n",
       "    <tr>\n",
       "      <th>Q2 - 2019</th>\n",
       "      <td>1319087000</td>\n",
       "    </tr>\n",
       "    <tr>\n",
       "      <th>Q2 - 2020</th>\n",
       "      <td>1892537000</td>\n",
       "    </tr>\n",
       "    <tr>\n",
       "      <th>Q3 - 2018</th>\n",
       "      <td>1004749000</td>\n",
       "    </tr>\n",
       "    <tr>\n",
       "      <th>Q3 - 2019</th>\n",
       "      <td>1428040000</td>\n",
       "    </tr>\n",
       "    <tr>\n",
       "      <th>Q4 - 2018</th>\n",
       "      <td>1096812000</td>\n",
       "    </tr>\n",
       "    <tr>\n",
       "      <th>Q4 - 2019</th>\n",
       "      <td>1562561000</td>\n",
       "    </tr>\n",
       "    <tr>\n",
       "      <th rowspan=\"10\" valign=\"top\">Latin America</th>\n",
       "      <th>Q1 - 2018</th>\n",
       "      <td>540182000</td>\n",
       "    </tr>\n",
       "    <tr>\n",
       "      <th>Q1 - 2019</th>\n",
       "      <td>630472000</td>\n",
       "    </tr>\n",
       "    <tr>\n",
       "      <th>Q1 - 2020</th>\n",
       "      <td>793453000</td>\n",
       "    </tr>\n",
       "    <tr>\n",
       "      <th>Q2 - 2018</th>\n",
       "      <td>568071000</td>\n",
       "    </tr>\n",
       "    <tr>\n",
       "      <th>Q2 - 2019</th>\n",
       "      <td>677136000</td>\n",
       "    </tr>\n",
       "    <tr>\n",
       "      <th>Q2 - 2020</th>\n",
       "      <td>785368000</td>\n",
       "    </tr>\n",
       "    <tr>\n",
       "      <th>Q3 - 2018</th>\n",
       "      <td>562307000</td>\n",
       "    </tr>\n",
       "    <tr>\n",
       "      <th>Q3 - 2019</th>\n",
       "      <td>741434000</td>\n",
       "    </tr>\n",
       "    <tr>\n",
       "      <th>Q4 - 2018</th>\n",
       "      <td>567137000</td>\n",
       "    </tr>\n",
       "    <tr>\n",
       "      <th>Q4 - 2019</th>\n",
       "      <td>746392000</td>\n",
       "    </tr>\n",
       "    <tr>\n",
       "      <th rowspan=\"10\" valign=\"top\">United States and Canada</th>\n",
       "      <th>Q1 - 2018</th>\n",
       "      <td>1976157000</td>\n",
       "    </tr>\n",
       "    <tr>\n",
       "      <th>Q1 - 2019</th>\n",
       "      <td>2256851000</td>\n",
       "    </tr>\n",
       "    <tr>\n",
       "      <th>Q1 - 2020</th>\n",
       "      <td>2702776000</td>\n",
       "    </tr>\n",
       "    <tr>\n",
       "      <th>Q2 - 2018</th>\n",
       "      <td>2049546000</td>\n",
       "    </tr>\n",
       "    <tr>\n",
       "      <th>Q2 - 2019</th>\n",
       "      <td>2501199000</td>\n",
       "    </tr>\n",
       "    <tr>\n",
       "      <th>Q2 - 2020</th>\n",
       "      <td>2839670000</td>\n",
       "    </tr>\n",
       "    <tr>\n",
       "      <th>Q3 - 2018</th>\n",
       "      <td>2094850000</td>\n",
       "    </tr>\n",
       "    <tr>\n",
       "      <th>Q3 - 2019</th>\n",
       "      <td>2621250000</td>\n",
       "    </tr>\n",
       "    <tr>\n",
       "      <th>Q4 - 2018</th>\n",
       "      <td>2160979000</td>\n",
       "    </tr>\n",
       "    <tr>\n",
       "      <th>Q4 - 2019</th>\n",
       "      <td>2671908000</td>\n",
       "    </tr>\n",
       "  </tbody>\n",
       "</table>\n",
       "</div>"
      ],
      "text/plain": [
       "                                              Revenue\n",
       "Area                            Years                \n",
       "Asia-Pacific                    Q1 - 2018   199117000\n",
       "                                Q1 - 2019   319602000\n",
       "                                Q1 - 2020   483660000\n",
       "                                Q2 - 2018   221252000\n",
       "                                Q2 - 2019   349494000\n",
       "                                Q2 - 2020   569140000\n",
       "                                Q3 - 2018   248691000\n",
       "                                Q3 - 2019   382304000\n",
       "                                Q4 - 2018   276756000\n",
       "                                Q4 - 2019   418121000\n",
       "Europe,  Middle East and Africa Q1 - 2018   886649000\n",
       "                                Q1 - 2019  1233379000\n",
       "                                Q1 - 2020  1723474000\n",
       "                                Q2 - 2018   975497000\n",
       "                                Q2 - 2019  1319087000\n",
       "                                Q2 - 2020  1892537000\n",
       "                                Q3 - 2018  1004749000\n",
       "                                Q3 - 2019  1428040000\n",
       "                                Q4 - 2018  1096812000\n",
       "                                Q4 - 2019  1562561000\n",
       "Latin America                   Q1 - 2018   540182000\n",
       "                                Q1 - 2019   630472000\n",
       "                                Q1 - 2020   793453000\n",
       "                                Q2 - 2018   568071000\n",
       "                                Q2 - 2019   677136000\n",
       "                                Q2 - 2020   785368000\n",
       "                                Q3 - 2018   562307000\n",
       "                                Q3 - 2019   741434000\n",
       "                                Q4 - 2018   567137000\n",
       "                                Q4 - 2019   746392000\n",
       "United States and Canada        Q1 - 2018  1976157000\n",
       "                                Q1 - 2019  2256851000\n",
       "                                Q1 - 2020  2702776000\n",
       "                                Q2 - 2018  2049546000\n",
       "                                Q2 - 2019  2501199000\n",
       "                                Q2 - 2020  2839670000\n",
       "                                Q3 - 2018  2094850000\n",
       "                                Q3 - 2019  2621250000\n",
       "                                Q4 - 2018  2160979000\n",
       "                                Q4 - 2019  2671908000"
      ]
     },
     "execution_count": 7,
     "metadata": {},
     "output_type": "execute_result"
    }
   ],
   "source": [
    "netflix_subscribers_country.head()\n",
    "netflix_rev_region = netflix_subscribers_country.groupby(['Area','Years']).sum('Subscribers')\n",
    "netflix_rev_region"
   ]
  },
  {
   "cell_type": "code",
   "execution_count": 8,
   "metadata": {},
   "outputs": [],
   "source": [
    "# File to Load \n",
    "file_to_load_three = 'Data Sets/Netflix Subscribers and Revenue by Country/DataNetflixSubscriber2020_V2.csv'\n",
    "netflix_subscribers_revenue = pd.read_csv(file_to_load_three)"
   ]
  },
  {
   "cell_type": "code",
   "execution_count": 9,
   "metadata": {},
   "outputs": [
    {
     "data": {
      "text/html": [
       "<div>\n",
       "<style scoped>\n",
       "    .dataframe tbody tr th:only-of-type {\n",
       "        vertical-align: middle;\n",
       "    }\n",
       "\n",
       "    .dataframe tbody tr th {\n",
       "        vertical-align: top;\n",
       "    }\n",
       "\n",
       "    .dataframe thead th {\n",
       "        text-align: right;\n",
       "    }\n",
       "</style>\n",
       "<table border=\"1\" class=\"dataframe\">\n",
       "  <thead>\n",
       "    <tr style=\"text-align: right;\">\n",
       "      <th></th>\n",
       "      <th></th>\n",
       "      <th>Subscribers</th>\n",
       "    </tr>\n",
       "    <tr>\n",
       "      <th>Area</th>\n",
       "      <th>Years</th>\n",
       "      <th></th>\n",
       "    </tr>\n",
       "  </thead>\n",
       "  <tbody>\n",
       "    <tr>\n",
       "      <th rowspan=\"10\" valign=\"top\">Asia-Pacific</th>\n",
       "      <th>Q1 - 2018</th>\n",
       "      <td>7394000</td>\n",
       "    </tr>\n",
       "    <tr>\n",
       "      <th>Q1 - 2019</th>\n",
       "      <td>12141000</td>\n",
       "    </tr>\n",
       "    <tr>\n",
       "      <th>Q1 - 2020</th>\n",
       "      <td>19835000</td>\n",
       "    </tr>\n",
       "    <tr>\n",
       "      <th>Q2 - 2018</th>\n",
       "      <td>8372000</td>\n",
       "    </tr>\n",
       "    <tr>\n",
       "      <th>Q2 - 2019</th>\n",
       "      <td>12942000</td>\n",
       "    </tr>\n",
       "    <tr>\n",
       "      <th>Q2 - 2020</th>\n",
       "      <td>22492000</td>\n",
       "    </tr>\n",
       "    <tr>\n",
       "      <th>Q3 - 2018</th>\n",
       "      <td>9461000</td>\n",
       "    </tr>\n",
       "    <tr>\n",
       "      <th>Q3 - 2019</th>\n",
       "      <td>14485000</td>\n",
       "    </tr>\n",
       "    <tr>\n",
       "      <th>Q4 - 2018</th>\n",
       "      <td>10607000</td>\n",
       "    </tr>\n",
       "    <tr>\n",
       "      <th>Q4 - 2019</th>\n",
       "      <td>16233000</td>\n",
       "    </tr>\n",
       "    <tr>\n",
       "      <th rowspan=\"10\" valign=\"top\">Europe,  Middle East and Africa</th>\n",
       "      <th>Q1 - 2018</th>\n",
       "      <td>29339000</td>\n",
       "    </tr>\n",
       "    <tr>\n",
       "      <th>Q1 - 2019</th>\n",
       "      <td>42542000</td>\n",
       "    </tr>\n",
       "    <tr>\n",
       "      <th>Q1 - 2020</th>\n",
       "      <td>58734000</td>\n",
       "    </tr>\n",
       "    <tr>\n",
       "      <th>Q2 - 2018</th>\n",
       "      <td>31317000</td>\n",
       "    </tr>\n",
       "    <tr>\n",
       "      <th>Q2 - 2019</th>\n",
       "      <td>44229000</td>\n",
       "    </tr>\n",
       "    <tr>\n",
       "      <th>Q2 - 2020</th>\n",
       "      <td>61483000</td>\n",
       "    </tr>\n",
       "    <tr>\n",
       "      <th>Q3 - 2018</th>\n",
       "      <td>33836000</td>\n",
       "    </tr>\n",
       "    <tr>\n",
       "      <th>Q3 - 2019</th>\n",
       "      <td>47355000</td>\n",
       "    </tr>\n",
       "    <tr>\n",
       "      <th>Q4 - 2018</th>\n",
       "      <td>37818000</td>\n",
       "    </tr>\n",
       "    <tr>\n",
       "      <th>Q4 - 2019</th>\n",
       "      <td>51778000</td>\n",
       "    </tr>\n",
       "    <tr>\n",
       "      <th rowspan=\"10\" valign=\"top\">Latin America</th>\n",
       "      <th>Q1 - 2018</th>\n",
       "      <td>21260000</td>\n",
       "    </tr>\n",
       "    <tr>\n",
       "      <th>Q1 - 2019</th>\n",
       "      <td>27547000</td>\n",
       "    </tr>\n",
       "    <tr>\n",
       "      <th>Q1 - 2020</th>\n",
       "      <td>34318000</td>\n",
       "    </tr>\n",
       "    <tr>\n",
       "      <th>Q2 - 2018</th>\n",
       "      <td>22795000</td>\n",
       "    </tr>\n",
       "    <tr>\n",
       "      <th>Q2 - 2019</th>\n",
       "      <td>27890000</td>\n",
       "    </tr>\n",
       "    <tr>\n",
       "      <th>Q2 - 2020</th>\n",
       "      <td>36068000</td>\n",
       "    </tr>\n",
       "    <tr>\n",
       "      <th>Q3 - 2018</th>\n",
       "      <td>24115000</td>\n",
       "    </tr>\n",
       "    <tr>\n",
       "      <th>Q3 - 2019</th>\n",
       "      <td>29380000</td>\n",
       "    </tr>\n",
       "    <tr>\n",
       "      <th>Q4 - 2018</th>\n",
       "      <td>26077000</td>\n",
       "    </tr>\n",
       "    <tr>\n",
       "      <th>Q4 - 2019</th>\n",
       "      <td>31417000</td>\n",
       "    </tr>\n",
       "    <tr>\n",
       "      <th rowspan=\"10\" valign=\"top\">United States and Canada</th>\n",
       "      <th>Q1 - 2018</th>\n",
       "      <td>60909000</td>\n",
       "    </tr>\n",
       "    <tr>\n",
       "      <th>Q1 - 2019</th>\n",
       "      <td>66633000</td>\n",
       "    </tr>\n",
       "    <tr>\n",
       "      <th>Q1 - 2020</th>\n",
       "      <td>69969000</td>\n",
       "    </tr>\n",
       "    <tr>\n",
       "      <th>Q2 - 2018</th>\n",
       "      <td>61870000</td>\n",
       "    </tr>\n",
       "    <tr>\n",
       "      <th>Q2 - 2019</th>\n",
       "      <td>66501000</td>\n",
       "    </tr>\n",
       "    <tr>\n",
       "      <th>Q2 - 2020</th>\n",
       "      <td>72904000</td>\n",
       "    </tr>\n",
       "    <tr>\n",
       "      <th>Q3 - 2018</th>\n",
       "      <td>63010000</td>\n",
       "    </tr>\n",
       "    <tr>\n",
       "      <th>Q3 - 2019</th>\n",
       "      <td>67114000</td>\n",
       "    </tr>\n",
       "    <tr>\n",
       "      <th>Q4 - 2018</th>\n",
       "      <td>64757000</td>\n",
       "    </tr>\n",
       "    <tr>\n",
       "      <th>Q4 - 2019</th>\n",
       "      <td>67662000</td>\n",
       "    </tr>\n",
       "  </tbody>\n",
       "</table>\n",
       "</div>"
      ],
      "text/plain": [
       "                                           Subscribers\n",
       "Area                            Years                 \n",
       "Asia-Pacific                    Q1 - 2018      7394000\n",
       "                                Q1 - 2019     12141000\n",
       "                                Q1 - 2020     19835000\n",
       "                                Q2 - 2018      8372000\n",
       "                                Q2 - 2019     12942000\n",
       "                                Q2 - 2020     22492000\n",
       "                                Q3 - 2018      9461000\n",
       "                                Q3 - 2019     14485000\n",
       "                                Q4 - 2018     10607000\n",
       "                                Q4 - 2019     16233000\n",
       "Europe,  Middle East and Africa Q1 - 2018     29339000\n",
       "                                Q1 - 2019     42542000\n",
       "                                Q1 - 2020     58734000\n",
       "                                Q2 - 2018     31317000\n",
       "                                Q2 - 2019     44229000\n",
       "                                Q2 - 2020     61483000\n",
       "                                Q3 - 2018     33836000\n",
       "                                Q3 - 2019     47355000\n",
       "                                Q4 - 2018     37818000\n",
       "                                Q4 - 2019     51778000\n",
       "Latin America                   Q1 - 2018     21260000\n",
       "                                Q1 - 2019     27547000\n",
       "                                Q1 - 2020     34318000\n",
       "                                Q2 - 2018     22795000\n",
       "                                Q2 - 2019     27890000\n",
       "                                Q2 - 2020     36068000\n",
       "                                Q3 - 2018     24115000\n",
       "                                Q3 - 2019     29380000\n",
       "                                Q4 - 2018     26077000\n",
       "                                Q4 - 2019     31417000\n",
       "United States and Canada        Q1 - 2018     60909000\n",
       "                                Q1 - 2019     66633000\n",
       "                                Q1 - 2020     69969000\n",
       "                                Q2 - 2018     61870000\n",
       "                                Q2 - 2019     66501000\n",
       "                                Q2 - 2020     72904000\n",
       "                                Q3 - 2018     63010000\n",
       "                                Q3 - 2019     67114000\n",
       "                                Q4 - 2018     64757000\n",
       "                                Q4 - 2019     67662000"
      ]
     },
     "execution_count": 9,
     "metadata": {},
     "output_type": "execute_result"
    }
   ],
   "source": [
    "netflix_subscribers_revenue.head()\n",
    "\n",
    "netflix_subs_region = netflix_subscribers_revenue.groupby(['Area','Years']).sum('Subscribers')\n",
    "netflix_subs_region"
   ]
  },
  {
   "cell_type": "code",
   "execution_count": 10,
   "metadata": {},
   "outputs": [],
   "source": [
    "# File to Load \n",
    "file_to_load_four = 'Data Sets/Netflix Subscribers and Revenue by Country/NetflixsRevenue2018toQ2_2020.csv'\n",
    "Netflix_revenue_country = pd.read_csv(file_to_load_four)"
   ]
  },
  {
   "cell_type": "code",
   "execution_count": 11,
   "metadata": {},
   "outputs": [
    {
     "data": {
      "text/html": [
       "<div>\n",
       "<style scoped>\n",
       "    .dataframe tbody tr th:only-of-type {\n",
       "        vertical-align: middle;\n",
       "    }\n",
       "\n",
       "    .dataframe tbody tr th {\n",
       "        vertical-align: top;\n",
       "    }\n",
       "\n",
       "    .dataframe thead th {\n",
       "        text-align: right;\n",
       "    }\n",
       "</style>\n",
       "<table border=\"1\" class=\"dataframe\">\n",
       "  <thead>\n",
       "    <tr style=\"text-align: right;\">\n",
       "      <th></th>\n",
       "      <th>Area</th>\n",
       "      <th>Q1 - 2018</th>\n",
       "      <th>Q2 - 2018</th>\n",
       "      <th>Q3 - 2018</th>\n",
       "      <th>Q4 - 2018</th>\n",
       "      <th>Q1 - 2019</th>\n",
       "      <th>Q2 - 2019</th>\n",
       "      <th>Q3 - 2019</th>\n",
       "      <th>Q4 - 2019</th>\n",
       "      <th>Q1 - 2020</th>\n",
       "      <th>Q2 - 2020</th>\n",
       "    </tr>\n",
       "  </thead>\n",
       "  <tbody>\n",
       "    <tr>\n",
       "      <th>0</th>\n",
       "      <td>United States and Canada</td>\n",
       "      <td>1976157000</td>\n",
       "      <td>2049546000</td>\n",
       "      <td>2094850000</td>\n",
       "      <td>2160979000</td>\n",
       "      <td>2256851000</td>\n",
       "      <td>2501199000</td>\n",
       "      <td>2621250000</td>\n",
       "      <td>2671908000</td>\n",
       "      <td>2702776000</td>\n",
       "      <td>2839670000</td>\n",
       "    </tr>\n",
       "    <tr>\n",
       "      <th>1</th>\n",
       "      <td>Europe, Middle East, and Africa</td>\n",
       "      <td>886649000</td>\n",
       "      <td>975497000</td>\n",
       "      <td>1004749000</td>\n",
       "      <td>1096812000</td>\n",
       "      <td>1233379000</td>\n",
       "      <td>1319087000</td>\n",
       "      <td>1428040000</td>\n",
       "      <td>1562561000</td>\n",
       "      <td>1723474000</td>\n",
       "      <td>1892537000</td>\n",
       "    </tr>\n",
       "    <tr>\n",
       "      <th>2</th>\n",
       "      <td>Latin America</td>\n",
       "      <td>540182000</td>\n",
       "      <td>568071000</td>\n",
       "      <td>562307000</td>\n",
       "      <td>567137000</td>\n",
       "      <td>630472000</td>\n",
       "      <td>677136000</td>\n",
       "      <td>741434000</td>\n",
       "      <td>746392000</td>\n",
       "      <td>793453000</td>\n",
       "      <td>785368000</td>\n",
       "    </tr>\n",
       "    <tr>\n",
       "      <th>3</th>\n",
       "      <td>Asia-Pacific</td>\n",
       "      <td>199117000</td>\n",
       "      <td>221252000</td>\n",
       "      <td>248691000</td>\n",
       "      <td>276756000</td>\n",
       "      <td>319602000</td>\n",
       "      <td>349494000</td>\n",
       "      <td>382304000</td>\n",
       "      <td>418121000</td>\n",
       "      <td>483660000</td>\n",
       "      <td>569140000</td>\n",
       "    </tr>\n",
       "  </tbody>\n",
       "</table>\n",
       "</div>"
      ],
      "text/plain": [
       "                              Area   Q1 - 2018   Q2 - 2018   Q3 - 2018  \\\n",
       "0         United States and Canada  1976157000  2049546000  2094850000   \n",
       "1  Europe, Middle East, and Africa   886649000   975497000  1004749000   \n",
       "2                    Latin America   540182000   568071000   562307000   \n",
       "3                     Asia-Pacific   199117000   221252000   248691000   \n",
       "\n",
       "    Q4 - 2018   Q1 - 2019   Q2 - 2019   Q3 - 2019   Q4 - 2019   Q1 - 2020  \\\n",
       "0  2160979000  2256851000  2501199000  2621250000  2671908000  2702776000   \n",
       "1  1096812000  1233379000  1319087000  1428040000  1562561000  1723474000   \n",
       "2   567137000   630472000   677136000   741434000   746392000   793453000   \n",
       "3   276756000   319602000   349494000   382304000   418121000   483660000   \n",
       "\n",
       "    Q2 - 2020  \n",
       "0  2839670000  \n",
       "1  1892537000  \n",
       "2   785368000  \n",
       "3   569140000  "
      ]
     },
     "execution_count": 11,
     "metadata": {},
     "output_type": "execute_result"
    }
   ],
   "source": [
    "Netflix_revenue_country "
   ]
  },
  {
   "cell_type": "code",
   "execution_count": 12,
   "metadata": {},
   "outputs": [],
   "source": [
    "# File to Load \n",
    "file_to_load_five = 'Data Sets/Netflix Subscribers and Revenue by Country/NetflixSubscribersbyCountryfrom2018toQ2_2020.csv'\n",
    "netflix_subscribers_country_v = pd.read_csv(file_to_load_five)"
   ]
  },
  {
   "cell_type": "code",
   "execution_count": 13,
   "metadata": {},
   "outputs": [
    {
     "data": {
      "text/html": [
       "<div>\n",
       "<style scoped>\n",
       "    .dataframe tbody tr th:only-of-type {\n",
       "        vertical-align: middle;\n",
       "    }\n",
       "\n",
       "    .dataframe tbody tr th {\n",
       "        vertical-align: top;\n",
       "    }\n",
       "\n",
       "    .dataframe thead th {\n",
       "        text-align: right;\n",
       "    }\n",
       "</style>\n",
       "<table border=\"1\" class=\"dataframe\">\n",
       "  <thead>\n",
       "    <tr style=\"text-align: right;\">\n",
       "      <th></th>\n",
       "      <th>Area</th>\n",
       "      <th>Q1 - 2018</th>\n",
       "      <th>Q2 - 2018</th>\n",
       "      <th>Q3 - 2018</th>\n",
       "      <th>Q4 - 2018</th>\n",
       "      <th>Q1 - 2019</th>\n",
       "      <th>Q2 - 2019</th>\n",
       "      <th>Q3 - 2019</th>\n",
       "      <th>Q4 - 2019</th>\n",
       "      <th>Q1 - 2020</th>\n",
       "      <th>Q2 - 2020</th>\n",
       "    </tr>\n",
       "  </thead>\n",
       "  <tbody>\n",
       "    <tr>\n",
       "      <th>0</th>\n",
       "      <td>United States and Canada</td>\n",
       "      <td>60909000</td>\n",
       "      <td>61870000</td>\n",
       "      <td>63010000</td>\n",
       "      <td>64757000</td>\n",
       "      <td>66633000</td>\n",
       "      <td>66501000</td>\n",
       "      <td>67114000</td>\n",
       "      <td>67662000</td>\n",
       "      <td>69969000</td>\n",
       "      <td>72904000</td>\n",
       "    </tr>\n",
       "    <tr>\n",
       "      <th>1</th>\n",
       "      <td>Europe, Middle East, and Africa</td>\n",
       "      <td>29339000</td>\n",
       "      <td>31317000</td>\n",
       "      <td>33836000</td>\n",
       "      <td>37818000</td>\n",
       "      <td>42542000</td>\n",
       "      <td>44229000</td>\n",
       "      <td>47355000</td>\n",
       "      <td>51778000</td>\n",
       "      <td>58734000</td>\n",
       "      <td>61483000</td>\n",
       "    </tr>\n",
       "    <tr>\n",
       "      <th>2</th>\n",
       "      <td>Latin America</td>\n",
       "      <td>21260000</td>\n",
       "      <td>22795000</td>\n",
       "      <td>24115000</td>\n",
       "      <td>26077000</td>\n",
       "      <td>27547000</td>\n",
       "      <td>27890000</td>\n",
       "      <td>29380000</td>\n",
       "      <td>31417000</td>\n",
       "      <td>34318000</td>\n",
       "      <td>36068000</td>\n",
       "    </tr>\n",
       "    <tr>\n",
       "      <th>3</th>\n",
       "      <td>Asia-Pacific</td>\n",
       "      <td>7394000</td>\n",
       "      <td>8372000</td>\n",
       "      <td>9461000</td>\n",
       "      <td>10607000</td>\n",
       "      <td>12141000</td>\n",
       "      <td>12942000</td>\n",
       "      <td>14485000</td>\n",
       "      <td>16233000</td>\n",
       "      <td>19835000</td>\n",
       "      <td>22492000</td>\n",
       "    </tr>\n",
       "  </tbody>\n",
       "</table>\n",
       "</div>"
      ],
      "text/plain": [
       "                              Area  Q1 - 2018  Q2 - 2018  Q3 - 2018  \\\n",
       "0         United States and Canada   60909000   61870000   63010000   \n",
       "1  Europe, Middle East, and Africa   29339000   31317000   33836000   \n",
       "2                    Latin America   21260000   22795000   24115000   \n",
       "3                     Asia-Pacific    7394000    8372000    9461000   \n",
       "\n",
       "   Q4 - 2018  Q1 - 2019  Q2 - 2019  Q3 - 2019  Q4 - 2019  Q1 - 2020  Q2 - 2020  \n",
       "0   64757000   66633000   66501000   67114000   67662000   69969000   72904000  \n",
       "1   37818000   42542000   44229000   47355000   51778000   58734000   61483000  \n",
       "2   26077000   27547000   27890000   29380000   31417000   34318000   36068000  \n",
       "3   10607000   12141000   12942000   14485000   16233000   19835000   22492000  "
      ]
     },
     "execution_count": 13,
     "metadata": {},
     "output_type": "execute_result"
    }
   ],
   "source": [
    "netflix_subscribers_country_v.head()"
   ]
  },
  {
   "cell_type": "code",
   "execution_count": 14,
   "metadata": {},
   "outputs": [],
   "source": [
    "# File to Load \n",
    "file_to_load_h = 'Data Sets/World Happiness Report/world-happiness-report-2021.csv'\n",
    "world_happiness_report = pd.read_csv(file_to_load_h)"
   ]
  },
  {
   "cell_type": "code",
   "execution_count": 15,
   "metadata": {},
   "outputs": [
    {
     "data": {
      "text/html": [
       "<div>\n",
       "<style scoped>\n",
       "    .dataframe tbody tr th:only-of-type {\n",
       "        vertical-align: middle;\n",
       "    }\n",
       "\n",
       "    .dataframe tbody tr th {\n",
       "        vertical-align: top;\n",
       "    }\n",
       "\n",
       "    .dataframe thead th {\n",
       "        text-align: right;\n",
       "    }\n",
       "</style>\n",
       "<table border=\"1\" class=\"dataframe\">\n",
       "  <thead>\n",
       "    <tr style=\"text-align: right;\">\n",
       "      <th></th>\n",
       "      <th>Country</th>\n",
       "      <th>Region</th>\n",
       "      <th>Ladder Score</th>\n",
       "    </tr>\n",
       "  </thead>\n",
       "  <tbody>\n",
       "    <tr>\n",
       "      <th>0</th>\n",
       "      <td>Finland</td>\n",
       "      <td>Western Europe</td>\n",
       "      <td>7.842</td>\n",
       "    </tr>\n",
       "    <tr>\n",
       "      <th>1</th>\n",
       "      <td>Denmark</td>\n",
       "      <td>Western Europe</td>\n",
       "      <td>7.620</td>\n",
       "    </tr>\n",
       "    <tr>\n",
       "      <th>2</th>\n",
       "      <td>Switzerland</td>\n",
       "      <td>Western Europe</td>\n",
       "      <td>7.571</td>\n",
       "    </tr>\n",
       "    <tr>\n",
       "      <th>3</th>\n",
       "      <td>Iceland</td>\n",
       "      <td>Western Europe</td>\n",
       "      <td>7.554</td>\n",
       "    </tr>\n",
       "    <tr>\n",
       "      <th>4</th>\n",
       "      <td>Netherlands</td>\n",
       "      <td>Western Europe</td>\n",
       "      <td>7.464</td>\n",
       "    </tr>\n",
       "    <tr>\n",
       "      <th>...</th>\n",
       "      <td>...</td>\n",
       "      <td>...</td>\n",
       "      <td>...</td>\n",
       "    </tr>\n",
       "    <tr>\n",
       "      <th>144</th>\n",
       "      <td>Lesotho</td>\n",
       "      <td>Sub-Saharan Africa</td>\n",
       "      <td>3.512</td>\n",
       "    </tr>\n",
       "    <tr>\n",
       "      <th>145</th>\n",
       "      <td>Botswana</td>\n",
       "      <td>Sub-Saharan Africa</td>\n",
       "      <td>3.467</td>\n",
       "    </tr>\n",
       "    <tr>\n",
       "      <th>146</th>\n",
       "      <td>Rwanda</td>\n",
       "      <td>Sub-Saharan Africa</td>\n",
       "      <td>3.415</td>\n",
       "    </tr>\n",
       "    <tr>\n",
       "      <th>147</th>\n",
       "      <td>Zimbabwe</td>\n",
       "      <td>Sub-Saharan Africa</td>\n",
       "      <td>3.145</td>\n",
       "    </tr>\n",
       "    <tr>\n",
       "      <th>148</th>\n",
       "      <td>Afghanistan</td>\n",
       "      <td>South Asia</td>\n",
       "      <td>2.523</td>\n",
       "    </tr>\n",
       "  </tbody>\n",
       "</table>\n",
       "<p>149 rows × 3 columns</p>\n",
       "</div>"
      ],
      "text/plain": [
       "         Country              Region  Ladder Score\n",
       "0        Finland      Western Europe         7.842\n",
       "1        Denmark      Western Europe         7.620\n",
       "2    Switzerland      Western Europe         7.571\n",
       "3        Iceland      Western Europe         7.554\n",
       "4    Netherlands      Western Europe         7.464\n",
       "..           ...                 ...           ...\n",
       "144      Lesotho  Sub-Saharan Africa         3.512\n",
       "145     Botswana  Sub-Saharan Africa         3.467\n",
       "146       Rwanda  Sub-Saharan Africa         3.415\n",
       "147     Zimbabwe  Sub-Saharan Africa         3.145\n",
       "148  Afghanistan          South Asia         2.523\n",
       "\n",
       "[149 rows x 3 columns]"
      ]
     },
     "execution_count": 15,
     "metadata": {},
     "output_type": "execute_result"
    }
   ],
   "source": [
    "world_happiness_report.head()\n",
    "world_happiness_report_sub = world_happiness_report[['Country name','Regional indicator','Ladder score']]\n",
    "world_happiness_report_sub.columns = ['Country','Region','Ladder Score']\n",
    "world_happiness_report_sub"
   ]
  },
  {
   "cell_type": "code",
   "execution_count": 16,
   "metadata": {},
   "outputs": [],
   "source": [
    "# File to Load \n",
    "file_to_load_r = 'Data Sets/World Happiness Report/world-happiness-report.csv'\n",
    "world_happiness_report_t= pd.read_csv(file_to_load_r)"
   ]
  },
  {
   "cell_type": "code",
   "execution_count": 17,
   "metadata": {},
   "outputs": [
    {
     "data": {
      "text/html": [
       "<div>\n",
       "<style scoped>\n",
       "    .dataframe tbody tr th:only-of-type {\n",
       "        vertical-align: middle;\n",
       "    }\n",
       "\n",
       "    .dataframe tbody tr th {\n",
       "        vertical-align: top;\n",
       "    }\n",
       "\n",
       "    .dataframe thead th {\n",
       "        text-align: right;\n",
       "    }\n",
       "</style>\n",
       "<table border=\"1\" class=\"dataframe\">\n",
       "  <thead>\n",
       "    <tr style=\"text-align: right;\">\n",
       "      <th></th>\n",
       "      <th>Country name</th>\n",
       "      <th>year</th>\n",
       "      <th>Life Ladder</th>\n",
       "      <th>Log GDP per capita</th>\n",
       "      <th>Social support</th>\n",
       "      <th>Healthy life expectancy at birth</th>\n",
       "      <th>Freedom to make life choices</th>\n",
       "      <th>Generosity</th>\n",
       "      <th>Perceptions of corruption</th>\n",
       "      <th>Positive affect</th>\n",
       "      <th>Negative affect</th>\n",
       "    </tr>\n",
       "  </thead>\n",
       "  <tbody>\n",
       "    <tr>\n",
       "      <th>0</th>\n",
       "      <td>Afghanistan</td>\n",
       "      <td>2008</td>\n",
       "      <td>3.724</td>\n",
       "      <td>7.370</td>\n",
       "      <td>0.451</td>\n",
       "      <td>50.80</td>\n",
       "      <td>0.718</td>\n",
       "      <td>0.168</td>\n",
       "      <td>0.882</td>\n",
       "      <td>0.518</td>\n",
       "      <td>0.258</td>\n",
       "    </tr>\n",
       "    <tr>\n",
       "      <th>1</th>\n",
       "      <td>Afghanistan</td>\n",
       "      <td>2009</td>\n",
       "      <td>4.402</td>\n",
       "      <td>7.540</td>\n",
       "      <td>0.552</td>\n",
       "      <td>51.20</td>\n",
       "      <td>0.679</td>\n",
       "      <td>0.190</td>\n",
       "      <td>0.850</td>\n",
       "      <td>0.584</td>\n",
       "      <td>0.237</td>\n",
       "    </tr>\n",
       "    <tr>\n",
       "      <th>2</th>\n",
       "      <td>Afghanistan</td>\n",
       "      <td>2010</td>\n",
       "      <td>4.758</td>\n",
       "      <td>7.647</td>\n",
       "      <td>0.539</td>\n",
       "      <td>51.60</td>\n",
       "      <td>0.600</td>\n",
       "      <td>0.121</td>\n",
       "      <td>0.707</td>\n",
       "      <td>0.618</td>\n",
       "      <td>0.275</td>\n",
       "    </tr>\n",
       "    <tr>\n",
       "      <th>3</th>\n",
       "      <td>Afghanistan</td>\n",
       "      <td>2011</td>\n",
       "      <td>3.832</td>\n",
       "      <td>7.620</td>\n",
       "      <td>0.521</td>\n",
       "      <td>51.92</td>\n",
       "      <td>0.496</td>\n",
       "      <td>0.162</td>\n",
       "      <td>0.731</td>\n",
       "      <td>0.611</td>\n",
       "      <td>0.267</td>\n",
       "    </tr>\n",
       "    <tr>\n",
       "      <th>4</th>\n",
       "      <td>Afghanistan</td>\n",
       "      <td>2012</td>\n",
       "      <td>3.783</td>\n",
       "      <td>7.705</td>\n",
       "      <td>0.521</td>\n",
       "      <td>52.24</td>\n",
       "      <td>0.531</td>\n",
       "      <td>0.236</td>\n",
       "      <td>0.776</td>\n",
       "      <td>0.710</td>\n",
       "      <td>0.268</td>\n",
       "    </tr>\n",
       "  </tbody>\n",
       "</table>\n",
       "</div>"
      ],
      "text/plain": [
       "  Country name  year  Life Ladder  Log GDP per capita  Social support  \\\n",
       "0  Afghanistan  2008        3.724               7.370           0.451   \n",
       "1  Afghanistan  2009        4.402               7.540           0.552   \n",
       "2  Afghanistan  2010        4.758               7.647           0.539   \n",
       "3  Afghanistan  2011        3.832               7.620           0.521   \n",
       "4  Afghanistan  2012        3.783               7.705           0.521   \n",
       "\n",
       "   Healthy life expectancy at birth  Freedom to make life choices  Generosity  \\\n",
       "0                             50.80                         0.718       0.168   \n",
       "1                             51.20                         0.679       0.190   \n",
       "2                             51.60                         0.600       0.121   \n",
       "3                             51.92                         0.496       0.162   \n",
       "4                             52.24                         0.531       0.236   \n",
       "\n",
       "   Perceptions of corruption  Positive affect  Negative affect  \n",
       "0                      0.882            0.518            0.258  \n",
       "1                      0.850            0.584            0.237  \n",
       "2                      0.707            0.618            0.275  \n",
       "3                      0.731            0.611            0.267  \n",
       "4                      0.776            0.710            0.268  "
      ]
     },
     "execution_count": 17,
     "metadata": {},
     "output_type": "execute_result"
    }
   ],
   "source": [
    "world_happiness_report_t.head()"
   ]
  }
 ],
 "metadata": {
  "kernelspec": {
   "display_name": "Python 3",
   "language": "python",
   "name": "python3"
  },
  "language_info": {
   "codemirror_mode": {
    "name": "ipython",
    "version": 3
   },
   "file_extension": ".py",
   "mimetype": "text/x-python",
   "name": "python",
   "nbconvert_exporter": "python",
   "pygments_lexer": "ipython3",
   "version": "3.8.8"
  }
 },
 "nbformat": 4,
 "nbformat_minor": 4
}
